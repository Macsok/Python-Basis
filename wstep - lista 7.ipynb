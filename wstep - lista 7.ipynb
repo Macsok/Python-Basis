{
 "cells": [
  {
   "cell_type": "markdown",
   "id": "8cc2efae",
   "metadata": {},
   "source": [
    "# Wstęp do programowania\n",
    "\n",
    "## Lista 7\n",
    "\n",
    "Uzupełnij swoje dane poniżej, następnie przeczytaj treść zadań i umieść rozwiązania w odpowidenich komórkach pozostawionych w tym celu pod treścią. Pamiętaj dbać o specyfikację, czyli nazwy zmiennych oraz odpowiednie rozmieszczenie komórek. Jeśli uruchomisz wszystkie komórki, dokument powinien działać bez błędów.<br>\n",
    "Możesz (ale nie musisz) korzystać ze wszystkiego, co wiesz, czyli możesz definiować funkcje, używać instrukcji warunkowych itd. itp. "
   ]
  },
  {
   "cell_type": "markdown",
   "id": "0b0a9d9f",
   "metadata": {},
   "source": [
    "  * **Imię:** Maciej\n",
    "  * **Nazwisko:** S\n",
    "  * **Numer indeksu:** "
   ]
  },
  {
   "cell_type": "markdown",
   "id": "ef0689cc",
   "metadata": {},
   "source": [
    "Napisz program, który znajduje wszystkie rzeczywiste rozwiązania równania:\n",
    "$$ax^2+bx+c=0$$\n",
    "zadanego przez zmienne `a`, `b` i `c`. Możesz utworzyć dowolnie wiele zmiennych pomocniczych (pod warunkiem, że będzie ich skończenie wiele)."
   ]
  },
  {
   "cell_type": "code",
   "execution_count": 2,
   "id": "8b599eb5",
   "metadata": {},
   "outputs": [],
   "source": [
    "a=1\n",
    "b=2\n",
    "c=1"
   ]
  },
  {
   "cell_type": "markdown",
   "id": "2fdf5aa8",
   "metadata": {},
   "source": [
    "Rozwiązanie:"
   ]
  },
  {
   "cell_type": "code",
   "execution_count": 31,
   "id": "d443ecff",
   "metadata": {},
   "outputs": [
    {
     "name": "stdout",
     "output_type": "stream",
     "text": [
      "(-1.0, -1.0)\n"
     ]
    }
   ],
   "source": [
    "import math\n",
    "def kwadratowa(a, b, c):\n",
    "    #   Sprawdzenie argumentów wejściowych / konwersja typu\n",
    "    assert a != 0, 'To nie jest funkcja kwadratowa.'\n",
    "    try:\n",
    "        a = float(a)\n",
    "    except:\n",
    "        print('arg: a nie jest liczbą.')\n",
    "        return ValueError\n",
    "    try:        \n",
    "        b = float(b)\n",
    "    except:\n",
    "        print('arg: b nie jest liczbą.')\n",
    "        return ValueError\n",
    "    try:\n",
    "        c = float(c)\n",
    "    except ValueError:\n",
    "        print('arg: c nie jest liczbą.')\n",
    "        return ValueError\n",
    "\n",
    "    \n",
    "    #   Rozwiązanie\n",
    "    delta = b**2 - 4*a*c\n",
    "    if delta < 0: return 'Brak rozwiązań.'\n",
    "    x_1 = (-b - math.sqrt(delta)) / 2*a\n",
    "    x_2 = (-b + math.sqrt(delta)) / 2*a\n",
    "    return (x_1, x_2)\n",
    "\n",
    "print(kwadratowa(a, b, '1.0'))"
   ]
  },
  {
   "cell_type": "markdown",
   "id": "c8e39835",
   "metadata": {},
   "source": [
    "### Zadanie 2\n",
    "\n",
    "Oblicz pole czworokąta o zadanych wierzchołkach, zapisanych w zmiennych `A`, `B`, `C` oraz `D`."
   ]
  },
  {
   "cell_type": "code",
   "execution_count": 29,
   "id": "55f8d464",
   "metadata": {},
   "outputs": [],
   "source": [
    "A = (0,0)\n",
    "B = (0,3)\n",
    "C = (1,1)\n",
    "D = (4,0)"
   ]
  },
  {
   "cell_type": "markdown",
   "id": "563633e8",
   "metadata": {},
   "source": [
    "_Rozwiązanie umieść poniżej, po wywołaniu komórki odpowiedź powinna być zapisana w zmiennej `pole`. Możesz utworzyć dowolnie wiele zmiennych pomocniczych._"
   ]
  },
  {
   "cell_type": "code",
   "execution_count": 73,
   "id": "9a999c35",
   "metadata": {},
   "outputs": [
    {
     "name": "stdout",
     "output_type": "stream",
     "text": [
      "3.5\n"
     ]
    }
   ],
   "source": [
    "def pole_czworokata(a, b, c, d):\n",
    "    #   Sprawdzenie e=wprowadzonych danych\n",
    "    for tup in [a, b, c, d]:\n",
    "        if type(tup) != type((1, 1)):\n",
    "            return TypeError('One of elements is not a tuple.')\n",
    "        if len(tup) != 2:\n",
    "            return ValueError('One of tuples has incorrect length.')\n",
    "        for i in tup:\n",
    "            try:\n",
    "                float(i)\n",
    "            except:\n",
    "                return ValueError('One of elements is not a number.')\n",
    "            \n",
    "    def dl_odc(a, b):\n",
    "        return math.sqrt((float(a[0])-float(b[0]))**2 + (float(a[1])-float(b[1]))**2)\n",
    "    \n",
    "    def pole_trk_heron(A, B, C):\n",
    "        a = dl_odc(A, B)\n",
    "        b = dl_odc(A, C)\n",
    "        c = dl_odc(B, C)\n",
    "        p = 0.5 * (a + b + c)\n",
    "        return math.sqrt(p * (p - a) * (p - b) * (p - c))\n",
    "\n",
    "    \n",
    "    #Znalezienie punktow skrajnych\n",
    "    i = 0\n",
    "    for pkt in [a, b, c, d]:\n",
    "        lista = [a, b, c, d]\n",
    "        lista.remove(pkt)\n",
    "        if pkt[0] <= lista[0][0] and pkt[0] <= lista[1][0] and pkt[0] <= lista[2][0]:\n",
    "            last = pkt\n",
    "        if pkt[0] >= lista[0][0] and pkt[0] >= lista[1][0] and pkt[0] >= lista[2][0]:\n",
    "            first = pkt\n",
    "        i += 1\n",
    "\n",
    "    #Przygotowanie punktow\n",
    "    lista = [a, b, c, d]\n",
    "    lista.remove(first)\n",
    "    lista.remove(last)\n",
    "    mid1 = lista[0]\n",
    "    mid2 = lista[1]\n",
    "    \n",
    "    #Zaokraglenie\n",
    "    return round((pole_trk_heron(first, mid1, mid2) + pole_trk_heron(last, mid1, mid2)), 10)\n",
    "    ###.............................cos\n",
    "pole = pole_czworokata(A, B, C, (4, '0.0'))\n",
    "print(pole)"
   ]
  },
  {
   "cell_type": "markdown",
   "id": "7ea6c421",
   "metadata": {},
   "source": [
    "**Odpowiedź:** Pole wynosi"
   ]
  },
  {
   "cell_type": "code",
   "execution_count": 74,
   "id": "9759c47a",
   "metadata": {},
   "outputs": [
    {
     "data": {
      "text/plain": [
       "3.5"
      ]
     },
     "execution_count": 74,
     "metadata": {},
     "output_type": "execute_result"
    }
   ],
   "source": [
    "pole"
   ]
  },
  {
   "cell_type": "markdown",
   "id": "04bea9c5",
   "metadata": {},
   "source": [
    "### Zadanie 3\n",
    "\n",
    "Wielkanoc jest świętem ruchomym. Jest co najmniej kilka algorytmów pozwalających wyznaczyć datę wielkanocy w danym roku kalendarzowym, jednym z nich jest <a href=\"http://www.algorytm.org/przetwarzanie-dat/wyznaczanie-daty-wielkanocy-metoda-meeusa-jonesa-butchera.html\">algorytm Meeusa/Jonesa/Butchera</a>\n",
    "\n",
    "#### Podpunkt a\n",
    "\n",
    "Oblicz datę wielkanocy w przyszłym roku kalendarzowym"
   ]
  },
  {
   "cell_type": "code",
   "execution_count": 6,
   "id": "14c08b3b",
   "metadata": {},
   "outputs": [],
   "source": [
    "R1 = 2024"
   ]
  },
  {
   "cell_type": "markdown",
   "id": "c6780412",
   "metadata": {},
   "source": [
    "_Rozwiązanie umieść poniżej, po wywołaniu komórki odpowiedź powinna być zapisana w zmiennej `wielkanoc` (samodzielnie zaproponuj \"typ\" tej zmiennej). Możesz utworzyć dowolnie wiele zmiennych pomocniczych._"
   ]
  },
  {
   "cell_type": "code",
   "execution_count": 85,
   "id": "cac2ee36",
   "metadata": {},
   "outputs": [
    {
     "name": "stdout",
     "output_type": "stream",
     "text": [
      "(31, 3)\n"
     ]
    }
   ],
   "source": [
    "def kiedy_wielkanoc(rok):\n",
    "    a = rok % 19\n",
    "    b = math.floor(rok / 100)\n",
    "    c = rok % 100\n",
    "    d = math.floor(b / 4)\n",
    "    e = b % 4\n",
    "    f = math.floor((b+8) / 25)\n",
    "    g = math.floor((b-f+1) / 3)\n",
    "    h = (19*a+b-d-g+15) % 30\n",
    "    i = math.floor(c / 4)\n",
    "    k = c % 4\n",
    "    l = (32+ 2*e + 2*i -h-k) % 7\n",
    "    m = math.floor((a+ 11*h + 22*l) / 451)\n",
    "    p = (h+l- 7*m +114) % 31\n",
    "    dzien = p+1\n",
    "    miesiac = math.floor((h+l - 7*m + 114) / 31)\n",
    "    return (dzien, miesiac)\n",
    "\n",
    "wielkanoc = kiedy_wielkanoc(2024)\n",
    "print(wielkanoc)"
   ]
  },
  {
   "cell_type": "markdown",
   "id": "46b36a1b",
   "metadata": {},
   "source": [
    "Wpisz kod wypisujący całym zdaniem odpowiedź na pytanie, kiedy będzie wielkanoc w zadanym roku:"
   ]
  },
  {
   "cell_type": "code",
   "execution_count": 86,
   "id": "ec33f30c",
   "metadata": {},
   "outputs": [
    {
     "name": "stdout",
     "output_type": "stream",
     "text": [
      "W roku 2024, wielkanoc, odbedzie się 31 marca.\n"
     ]
    }
   ],
   "source": [
    "rok = int(input('Podaj rok: '))\n",
    "kiedy = kiedy_wielkanoc(rok)\n",
    "mies = 1\n",
    "if kiedy[1] == 3: mies = 'marca'\n",
    "if kiedy[1] == 4: mies = 'kwietnia'\n",
    "print(f\"W roku {rok}, wielkanoc, odbedzie się {kiedy[0]} {mies}.\")"
   ]
  },
  {
   "cell_type": "markdown",
   "id": "95b546de",
   "metadata": {},
   "source": [
    "#### Podpunkt b\n",
    "\n",
    "Sprawdź, w którym roku w bieżącym wieku wielkanoc przypada najpóźniej (w sensie miesiąca i dnia). Najlepiej, gdyby odpowiedź w całości potrafił znaleźć Twój program."
   ]
  },
  {
   "cell_type": "code",
   "execution_count": 87,
   "id": "c08be3d9",
   "metadata": {},
   "outputs": [
    {
     "name": "stdout",
     "output_type": "stream",
     "text": [
      "Wielkanoc (w bieżącym wieku) najpóźniej przypadnie 25.4.2038r.\n"
     ]
    }
   ],
   "source": [
    "last = (1, 1)\n",
    "ans = 1\n",
    "for year in range(2000, 3001):\n",
    "    o = kiedy_wielkanoc(year)\n",
    "    if o[1] > 3:\n",
    "        if o[0] > last[0]:\n",
    "            last = o\n",
    "            ans = year\n",
    "\n",
    "print(f\"Wielkanoc (w bieżącym wieku) najpóźniej przypadnie {last[0]}.{last[1]}.{ans}r.\")"
   ]
  },
  {
   "cell_type": "markdown",
   "id": "85451b64",
   "metadata": {},
   "source": [
    "### Zadanie 4\n",
    "\n",
    "Godziny wschodu i zachodu słońca dla danej długości i szerokości geograficznej można wyliczyć korzystając ze <a href=\"http://cybermoon.pl/wiedza/algorithms/wschody_slonca2.html\">znanych algorytmów</a>. Napisz program, który wylicza godzinę wschodu i zachodu słońca we Wrocławiu (może być dla ustalenia uwagi godzina dla budynku Wydziału Matematyki) w dniu jego (programu) uruchomienia.<BR><BR>\n",
    "<I>Podpowiedź:</I>"
   ]
  },
  {
   "cell_type": "code",
   "execution_count": 17,
   "id": "1acafbad",
   "metadata": {
    "scrolled": true
   },
   "outputs": [
    {
     "data": {
      "text/plain": [
       "'Dziś jest 17.12.2023'"
      ]
     },
     "execution_count": 17,
     "metadata": {},
     "output_type": "execute_result"
    }
   ],
   "source": [
    "import datetime\n",
    "\n",
    "x = datetime.datetime.now()\n",
    "\"Dziś jest {d}.{m}.{r}\".format(d=x.day,m=x.month,r=x.year)"
   ]
  },
  {
   "cell_type": "markdown",
   "id": "c1e242b4",
   "metadata": {},
   "source": [
    "Rozwiązanie:"
   ]
  },
  {
   "cell_type": "code",
   "execution_count": 77,
   "id": "30466634",
   "metadata": {},
   "outputs": [
    {
     "name": "stdout",
     "output_type": "stream",
     "text": [
      "Wschód dla zadanej lokalizacji będzie o: 7:50:11.889728, a zachód o: 15:48:15.947071.\n"
     ]
    }
   ],
   "source": [
    "#   Algorytm\n",
    "#http://cybermoon.pl/wiedza/algorithms/wschody_slonca2.html\n",
    "def uklad_slonca(szer, dlu, rok, miesiac, dzien):\n",
    "    #Zwraca (wschod, gorowanie, zachod)\n",
    "    n3 = math.pi / 180\n",
    "    o3 = 57.29577951\n",
    "    d5 = rok\n",
    "    d6 = miesiac\n",
    "    d7 = dzien\n",
    "\n",
    "    e6 = d6 + 12 if d6 <= 2 else d6\n",
    "    e7 = d5 - 1 if d6 <= 2 else d5\n",
    "\n",
    "    L5 = math.floor(d5/100)\n",
    "    L6 = 2 - L5 + math.floor(L5/4)\n",
    "    L7 = math.floor(365.25*(e7+4716)) + math.floor(30.6001*(e6+1)) + d7 + L6 - 1524.5\n",
    "    m3 = (L7-2451545) / 36525\n",
    "    m4 = 280.46646 + 36000.76983 * m3 + 0.0003032 * m3 * m3\n",
    "    M5 = 357.52911 + 35999.05029 * m3 - 0.0001537 * m3 * m3\n",
    "    n5 = M5 / 360\n",
    "    o5 = (n5 - math.floor(n5)) * 360\n",
    "    m6 = (1.914602 - 0.004817 * m3 - 0.000014 * m3 * m3) * math.sin(o5 * n3)\n",
    "    m7 = (0.019993 - 0.000101 * m3) * math.sin(2 * o5 * n3)\n",
    "    m8 = 0.000289 * math.sin(3 * o5 * n3)\n",
    "    m9 = m6 + m7 + m8\n",
    "    n4 = m4 / 360\n",
    "    o4 = (n4 - math.floor(n4)) * 360\n",
    "    n6 = o4 + m9\n",
    "    n7 = 125.04 - 1934.136 * m3\n",
    "\n",
    "    n9 = n7 + 360 if n7 < 0 else n7\n",
    "\n",
    "    n10 = n6 - 0.00569 - 0.00478 * math.sin(n9 * n3)\n",
    "    M11 = 23.43930278 - 0.0130042 * m3 - 0.000000163 * m3 * m3\n",
    "    n11 = math.sin(M11 * n3) * math.sin(n10 * n3)\n",
    "    n12 = math.asin(n11) * 180 / math.pi\n",
    "    n15 = dlu / 15\n",
    "    o15 = szer\n",
    "    m13 = (7.7 * math.sin((o4 + 78) * n3) - 9.5 * math.sin(2 * o4 * n3)) / 60\n",
    "    o16 = math.cos(n12 * n3) * math.cos(o15 * n3)\n",
    "    n16 = -0.01483 - math.sin(n12 * n3) * math.sin(o15 * n3)\n",
    "    p15 = 2 * (math.acos(n16 / o16) * o3) / 15\n",
    "\n",
    "    #   Wyniki\n",
    "    p17 = 13 - n15 + m13 - (p15 / 2)    #   Godzina wschodu slonca\n",
    "    r18 = 13 - n15 + m13    #   Godzina gorowania slonca\n",
    "    q17 = 13 - n15 + m13 + (p15 / 2)    #   Godzina zachodu slonca\n",
    "    return (p17, r18, q17)\n",
    "\n",
    "wspolrzedne_c19 = '51.10811034043959, 17.05753211990264'    #szerokosc, dlugosc\n",
    "odp = uklad_slonca(50.81761564228254, 16.759340150000902, x.year, x.month, x.day)\n",
    "\n",
    "def f_to_time(float_):\n",
    "    return str(datetime.timedelta(hours=float_))\n",
    "\n",
    "print(f\"Wschód dla zadanej lokalizacji będzie o: {f_to_time(odp[0])}, a zachód o: {f_to_time(odp[2])}.\")"
   ]
  },
  {
   "cell_type": "markdown",
   "id": "354f367d",
   "metadata": {},
   "source": [
    "### Zadanie 5\n",
    "\n",
    "Załóżmy, że zakładamy $n$-letnią lokatę na $p$ procent w skali roku z $m$ kapitalizacjami w ciągu roku. Oznacza to, że po dowolnym spośród $n\\cdot m$ okresów kapitalizacji, zarobimy $\\frac{p}{m}$ procent (bank zaokrągli kwotę w dół do pełnych groszy). Następnie, odliczony zostanie podatek od dochodów kapitałowych (19%). Kwota po odliczeniu podatku zostanie ponownie zaokrąglona do pełnych groszy w dół i doliczona do początkowego kapitału, który będzie „pracował” w kolejnym okresie kapitalizacji.\n",
    "\n",
    "##### Podpunkt a\n",
    "\n",
    "Dla uproszczenia pomińmy chwilowo dwa miejsca, w których zaokrąglamy kwoty w dół do pełnych groszy.\n",
    "\n",
    "Ile procent początkowej kwoty zarobi każda z poniższych lokat?\n",
    "\n",
    "  * dwuletnia na 2.3% w skali roku z rocznym okresem kapitalizacji,"
   ]
  },
  {
   "cell_type": "code",
   "execution_count": 78,
   "id": "662f559a",
   "metadata": {},
   "outputs": [
    {
     "data": {
      "text/plain": [
       "1.0376070768999999"
      ]
     },
     "execution_count": 78,
     "metadata": {},
     "output_type": "execute_result"
    }
   ],
   "source": [
    "n1 = 2\n",
    "p1 = 0.023\n",
    "m1 = 1\n",
    "\n",
    "procent1 = 1\n",
    "\n",
    "for i in range(n1 * m1):\n",
    "    x = procent1\n",
    "    procent1 = procent1 * (1 + p1)\n",
    "    procent1 -= abs(x - procent1) * 0.19\n",
    "\n",
    "procent1"
   ]
  },
  {
   "cell_type": "markdown",
   "id": "6dde023f",
   "metadata": {},
   "source": [
    "   * dwuletnia na 2.25% w skali roku z półrocznym okresem kapitalizacji,\n"
   ]
  },
  {
   "cell_type": "code",
   "execution_count": 79,
   "id": "b53d40a2",
   "metadata": {},
   "outputs": [
    {
     "data": {
      "text/plain": [
       "1.0766284460329625"
      ]
     },
     "execution_count": 79,
     "metadata": {},
     "output_type": "execute_result"
    }
   ],
   "source": [
    "n2 = 2\n",
    "p2 = 0.0225\n",
    "m2 = 2\n",
    "\n",
    "saldo = 1\n",
    "\n",
    "for i in range(n2 * m2):\n",
    "    x = saldo\n",
    "    saldo = saldo * (1 + p1)\n",
    "    saldo -= abs(x - saldo) * 0.19\n",
    "\n",
    "procent2 = saldo\n",
    "procent2"
   ]
  },
  {
   "cell_type": "markdown",
   "id": "f0793ea2",
   "metadata": {},
   "source": [
    "  * dwuletnia na 2.2% w skali roku z kwartalnym okresem kapitalizacji,"
   ]
  },
  {
   "cell_type": "code",
   "execution_count": 80,
   "id": "4810ebd8",
   "metadata": {},
   "outputs": [
    {
     "data": {
      "text/plain": [
       "1.1591288108073514"
      ]
     },
     "execution_count": 80,
     "metadata": {},
     "output_type": "execute_result"
    }
   ],
   "source": [
    "n3 = 2\n",
    "p3 = 0.022\n",
    "m3 = 4\n",
    "\n",
    "saldo = 1\n",
    "\n",
    "for i in range(n3 * m3):\n",
    "    x = saldo\n",
    "    saldo = saldo * (1 + p1)\n",
    "    saldo -= abs(x - saldo) * 0.19\n",
    "\n",
    "procent3 = saldo\n",
    "saldo"
   ]
  },
  {
   "cell_type": "markdown",
   "id": "5cf46a9e",
   "metadata": {},
   "source": [
    "  * dwuletnia na 2.15% w skali roku z dziennym okresem kapitalizacji (zakładamy, że lokata trwa dwa razy po 365 dni)."
   ]
  },
  {
   "cell_type": "code",
   "execution_count": 81,
   "id": "e839b855",
   "metadata": {},
   "outputs": [
    {
     "data": {
      "text/plain": [
       "711242.4672288493"
      ]
     },
     "execution_count": 81,
     "metadata": {},
     "output_type": "execute_result"
    }
   ],
   "source": [
    "n4 = 2\n",
    "p4 = 0.0215\n",
    "m4 = 365\n",
    "\n",
    "saldo = 1\n",
    "\n",
    "for i in range(n4 * m4):\n",
    "    x = saldo\n",
    "    saldo = saldo * (1 + p1)\n",
    "    saldo -= abs(x - saldo) * 0.19\n",
    "\n",
    "procent4 = saldo\n",
    "procent4"
   ]
  },
  {
   "cell_type": "markdown",
   "id": "8f5e8e7a",
   "metadata": {},
   "source": [
    "#### Podpunkt b\n",
    "\n",
    "Tym razem nie pomijamy zaokrągleń w dół do pełnych groszy. Na lokatę wpłacamy 1000,00PLN. Ile złotych (i groszy) zarobią następujące lokaty?\n",
    "\n",
    "  * dwuletnia na 2.3% w skali roku z rocznym okresem kapitalizacji,"
   ]
  },
  {
   "cell_type": "code",
   "execution_count": 82,
   "id": "801bddd6",
   "metadata": {},
   "outputs": [
    {
     "data": {
      "text/plain": [
       "1037.61"
      ]
     },
     "execution_count": 82,
     "metadata": {},
     "output_type": "execute_result"
    }
   ],
   "source": [
    "n5 = 2\n",
    "p5 = 0.023\n",
    "m5 = 1\n",
    "kwota5 = 1000\n",
    "\n",
    "saldo = kwota5\n",
    "\n",
    "for i in range(n5 * m5):\n",
    "    x = saldo\n",
    "    saldo = saldo * (1 + p1)\n",
    "    saldo = round(saldo, 2)\n",
    "    saldo -= abs(x - saldo) * 0.19\n",
    "    saldo = round(saldo, 2)\n",
    "\n",
    "\n",
    "zysk5 = saldo\n",
    "zysk5"
   ]
  },
  {
   "cell_type": "markdown",
   "id": "1a42cc8c",
   "metadata": {},
   "source": [
    "  *  dwuletnia na 2.25% w skali roku z półrocznym okresem kapitalizacji."
   ]
  },
  {
   "cell_type": "code",
   "execution_count": 83,
   "id": "354f98bc",
   "metadata": {},
   "outputs": [
    {
     "data": {
      "text/plain": [
       "1076.63"
      ]
     },
     "execution_count": 83,
     "metadata": {},
     "output_type": "execute_result"
    }
   ],
   "source": [
    "n6 = 2\n",
    "p6 = 0.0225\n",
    "m6 = 2\n",
    "kwota6 = 1000\n",
    "\n",
    "saldo = kwota6\n",
    "\n",
    "for i in range(n6 * m6):\n",
    "    x = saldo\n",
    "    saldo = saldo * (1 + p1)\n",
    "    saldo = round(saldo, 2)\n",
    "    saldo -= abs(x - saldo) * 0.19\n",
    "    saldo = round(saldo, 2)\n",
    "\n",
    "\n",
    "zysk6 = saldo\n",
    "zysk6"
   ]
  },
  {
   "cell_type": "markdown",
   "id": "a565c546",
   "metadata": {},
   "source": [
    "<div style=\"text-align: right\"> Powodzenia!<br><i>Zespół kursu Wstęp do programowania</i></div>"
   ]
  }
 ],
 "metadata": {
  "kernelspec": {
   "display_name": "Python 3 (ipykernel)",
   "language": "python",
   "name": "python3"
  },
  "language_info": {
   "codemirror_mode": {
    "name": "ipython",
    "version": 3
   },
   "file_extension": ".py",
   "mimetype": "text/x-python",
   "name": "python",
   "nbconvert_exporter": "python",
   "pygments_lexer": "ipython3",
   "version": "3.10.11"
  }
 },
 "nbformat": 4,
 "nbformat_minor": 5
}
