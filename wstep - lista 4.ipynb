{
 "cells": [
  {
   "cell_type": "markdown",
   "id": "817cd8f2",
   "metadata": {},
   "source": [
    "# Wstęp do programowania\n",
    "## Lista 4\n",
    "\n",
    "Uzupełnij swoje dane poniżej, następnie przeczytaj treść zadań i umieść rozwiązania w odpowidenich komórkach pozostawionych w tym celu pod treścią. Pamiętaj dbać o specyfikację, czyli nazwy zmiennych oraz odpowiednie rozmieszczenie komórek. Jeśli uruchomisz wszystkie komórki, dokument powinien działać bez błędów."
   ]
  },
  {
   "cell_type": "markdown",
   "id": "76926f19",
   "metadata": {},
   "source": [
    "  * **Imię:** Maciej\n",
    "  * **Nazwisko:** S\n",
    "  * **Numer indeksu:** ..."
   ]
  },
  {
   "cell_type": "markdown",
   "id": "f179d9a1",
   "metadata": {},
   "source": [
    "W rozwiązaniach zadań możesz korzystać z biblioteki `math`."
   ]
  },
  {
   "cell_type": "code",
   "execution_count": 1,
   "id": "2ceefa09",
   "metadata": {},
   "outputs": [],
   "source": [
    "import math"
   ]
  },
  {
   "cell_type": "markdown",
   "id": "e7d3ab53",
   "metadata": {},
   "source": [
    "### Zadanie 1\n",
    "\n",
    "Przypomnij sobie zadanie o dniu juliańskim z pierwszej listy.\n",
    "\n",
    "#### podpunkt a\n",
    "\n",
    "Zaimplementuj funkcję `dzień_juliański(D, M, R)` zwracającą dzień juliański odpowiadający podanej dacie. Rozwiązanie umieść w komórce poniżej."
   ]
  },
  {
   "cell_type": "code",
   "execution_count": 6,
   "id": "f534f34d",
   "metadata": {},
   "outputs": [
    {
     "data": {
      "text/plain": [
       "2460276"
      ]
     },
     "execution_count": 6,
     "metadata": {},
     "output_type": "execute_result"
    }
   ],
   "source": [
    "def dzien_julianski(D, M, R):\n",
    "    D1 = int(D)\n",
    "    M1 = int(M)\n",
    "    R1 = int(R)\n",
    "    #slownik = {'1' : 'poniedziałek', '2' : 'wtorek', '3' : 'środa', '4' : 'czwartek', '5' : 'piątek', '6' : 'sobota', '7' : 'niedziela'}\n",
    "\n",
    "    a = math.floor((14 - M1) / 12)\n",
    "    y = R1 + 4800 - a\n",
    "    m = M1 + 12 * a - 3\n",
    "    dzien_j = D1 + math.floor((153 * m + 2) / 5) + 365 * y + math.floor(y / 4) - math.floor(y / 100) + math.floor(y / 400) - 32045\n",
    "    dzien_tyg = dzien_j % 7 + 1\n",
    "\n",
    "    #return slownik[str(dzien_tyg)]\n",
    "    return dzien_j\n",
    "\n",
    "dzien_julianski(27, 11, 2023)"
   ]
  },
  {
   "cell_type": "markdown",
   "id": "551e1ff2",
   "metadata": {},
   "source": [
    "#### podpunkt b\n",
    "\n",
    "Zaimplementuj funkcję `ile_dni(data1, data2)` obliczającą, ile dni upłynęło pomiędzy dwiema datami, gdzie daty podane są jako krotki `(D, M, R)`. Wykorzystaj funkcję zaimplementowaną w poprzednim podpunkcie. Przykładowe wywołanie\n",
    "```python\n",
    "print(ile_dni((4, 11, 2021), (6, 12, 2021)))\n",
    "```\n",
    "powinno dać w wyniku liczbę 32.\n",
    "\n",
    "Podpowiedź: użyj funkcji napisanej w podpunkcie a.\n",
    "\n",
    "Rozwiązanie umieść w komórce poniżej."
   ]
  },
  {
   "cell_type": "code",
   "execution_count": 11,
   "id": "e3c3dc93",
   "metadata": {},
   "outputs": [
    {
     "name": "stdout",
     "output_type": "stream",
     "text": [
      "32\n"
     ]
    }
   ],
   "source": [
    "def ile_dni(data1, data2):\n",
    "    return abs(dzien_julianski(data1[0], data1[1], data1[2]) - dzien_julianski(data2[0], data2[1], data2[2]))\n",
    "\n",
    "print(ile_dni((4, 11, 2021), (6, 12, 2021)))"
   ]
  },
  {
   "cell_type": "markdown",
   "id": "50cbdbe6",
   "metadata": {},
   "source": [
    "### Zadanie 2\n",
    "\n",
    "#### Podpunkt a\n",
    "\n",
    "Napisz funkcję `fizz_buzz(x)`, która dla liczby naturalnej `x` zwraca napis:\n",
    "\n",
    "  - \"Fizz\" dla liczb podzielnych przez 3,\n",
    "  - \"Buzz\" dla liczb podzielnych przez 5,\n",
    "  - \"Fizz Buzz\" dla liczb jednocześnie podzielnych przez 3 i 5,\n",
    "  - napis oznaczający liczbę w pozostałych przypadkach, np.: \"4\" dla `x=4`.\n",
    "\n",
    "Podpowiedź: użyj wyrażenia warunkowego, operatora reszty z dzielenia oraz operatora `or`.\n",
    "\n",
    "Rozwiązanie umieść w komórce poniżej."
   ]
  },
  {
   "cell_type": "code",
   "execution_count": 17,
   "id": "2685a83c",
   "metadata": {},
   "outputs": [
    {
     "data": {
      "text/plain": [
       "'4'"
      ]
     },
     "execution_count": 17,
     "metadata": {},
     "output_type": "execute_result"
    }
   ],
   "source": [
    "def fizz_buzz(x):\n",
    "    x = int(x)\n",
    "    if x % 3 == 0:\n",
    "        if x % 5 == 0:\n",
    "            return 'Fizz Buzz'\n",
    "        return 'Fizz'\n",
    "    if x % 5 == 0:\n",
    "        return 'Buzz'\n",
    "    else: return str(x)\n",
    "\n",
    "fizz_buzz(4)"
   ]
  },
  {
   "cell_type": "markdown",
   "id": "94dcb4c2",
   "metadata": {},
   "source": [
    "#### Podpunkt b\n",
    "\n",
    "Stwórz listę napisów zgodnych z opisem powyżej dla liczb naturalnych dodatnich od $1$ do $100$.\n",
    "\n",
    "Podpowiedź: skorzystaj z list składanych.\n",
    "\n",
    "Rozwiązanie umieść w komórce poniżej."
   ]
  },
  {
   "cell_type": "code",
   "execution_count": 22,
   "id": "69144a42",
   "metadata": {},
   "outputs": [],
   "source": [
    "lista = [fizz_buzz(i) for i in range(1, 101)]"
   ]
  },
  {
   "cell_type": "markdown",
   "id": "87e972a7",
   "metadata": {},
   "source": [
    "### Zadanie 3\n",
    "\n",
    "Naszym celem jest napisanie programu, który sortuje punkty na płaszczyźnie względem ich odległości od prostej $y=x$. Chcemy, aby najpierw w liście znalazły się punkty najbliżej prostej, na końcu punkty najdalej od prostej. Jeśli lubisz geometrię i chcesz sam zmierzyć się z tym problemem, możesz przejść do podpunktu a zadania. Jeśli nie chcecsz lub nie udało się go znaleźć, możesz kontynuować opis.\n",
    "\n",
    "Ponieważ prosta $y=x$ jest nachylona do osi OX pod kątem $45^\\circ$, licząc odległość punktu $A = (a, b)$ od prostej, musimy wyznaczyć prostą prostopadłą do $y=x$ przechodzącą przez punkt $A$. Jej równanie będzie postaci $y=-x+c$ dla pewnego $c$. Podstawiając współrzędne $(a, b)$ punktu $A$ do równania $y=-x+c$ otrzymujemy $b = -a+c$, czyli $c=a+b$. Oznacza to, że prosta prostopadła do $y=x$ przechodząca przez punkt $A=(a, b)$ ma równanie $y=-x+(a+b)$. Aby znaleźć punkt przecięcia prostych, rozwiązujemy układ równań\n",
    "$$\\begin{cases} y = x,\\\\ y=-x+(a+b).\\end{cases}$$\n",
    "Rozwiązaniem układu równań jest punkt $P=(x_P, y_P) = \\left(\\frac{a+b}{2},\\frac{a+b}{2}\\right)$. Odległość pomiędzy punktami jest równa\n",
    "$$ \\begin{split}d(A, P) &= \\sqrt{(a-x_P)^2 + (b-y_P)^2} = \\sqrt{\\left(a-\\frac{a+b}{2}\\right)^2 + \\left(b-\\frac{a+b}{2}\\right)^2} \\\\&= \\sqrt{\\left(\\frac{a-b}{2}\\right)^2 + \\left(\\frac{b-a}{2}\\right)^2}= \\sqrt{2\\cdot \\left(\\frac{a-b}{2}\\right)^2 } = \\frac{|a-b|}{\\sqrt{2}}.\\end{split}$$\n",
    "Ponieważ sortujemy, stała nie gra roli, zatem punkt $A=(a, b)$ położony najdalej od prostej $y=x$ to ten, dla którego największa jest wartość $|a-b|$. Podobnie, najbliżej prostej $y=x$ leży ten punkt, dla którego moduł różnicy współrzędnych jest najmniejszy. W szczególności, jeśli $|a-b|=0$, punkt leży na prostej.\n",
    "\n",
    "#### podpunkt a\n",
    "\n",
    "Przypomnij sobie materiał o funkcji `sorted` i metodzie `sort` z wykładu oraz o krotkach. Ponieważ sortowanie domyślnie odbywa się w porządku rosnącym, a krotki porządkowane są leksykograficznie, czyli ich sortowanie odbywa się najpierw po pierwszej współrzędnej, jednym z pomysłów na rozwiązanie postawionego problemu jest dla listy punktów\n",
    "$$[A_1, A_2, A_3, \\ldots, A_n],$$\n",
    "stworzenie listy\n",
    "$$[(d_1, A_1), (d_2, A_2), (d_3, A_3), \\ldots, (d_n, A_n)],$$\n",
    "gdzie $d_i$ jest proporcjonalne do odległości punktu $A_i$ od prostej $y=x$. Następnie taką listę będziemy mogli posortować. Pierwszy jej element będzie postaci $(d_k, A_k)$, gdzie $d_k$ będzie najmniejszą odległością a $A_k$ będzie punktem najbliżej prostej $y=x$.\n",
    "\n",
    "Zaimplementuj ten pomysł wstawiając fragmenty kodu w miejsca wielokropków. Postaraj się nie modyfikować innych fragmentów funkcji."
   ]
  },
  {
   "cell_type": "code",
   "execution_count": 23,
   "id": "e0cae480",
   "metadata": {},
   "outputs": [],
   "source": [
    "def sortuj_punkty(punkty):\n",
    "    # przygotuj listę punktów z odległością\n",
    "    punkty_dist = [(abs(a - b), (a, b)) for a, b in punkty]\n",
    "    # posortuj punkty w miejscu, bez tworzenia dodatkowej listy\n",
    "    punkty_dist.sort()\n",
    "    # zwróć same punkty bez odległości\n",
    "    return [a[1] for a in punkty_dist]"
   ]
  },
  {
   "cell_type": "markdown",
   "id": "6947f0a2-f27c-42b8-851d-85ab6b633577",
   "metadata": {},
   "source": [
    "#### podpunkt b\n",
    "Wymyśl 3 przykłady użycia pozwalające sprawdzić, że dobrze zaimplementowałeś sortowanie."
   ]
  },
  {
   "cell_type": "code",
   "execution_count": 28,
   "id": "3b7f9e0c-36eb-4e15-a589-c2c44cc7eb4c",
   "metadata": {},
   "outputs": [
    {
     "name": "stdout",
     "output_type": "stream",
     "text": [
      "[(1, 1), (2, 2), (100, 99.5), (2, 1), (3, 1), (-20, 1), (100, 1)]\n"
     ]
    }
   ],
   "source": [
    "punkty1 = [(1,1), (2,1), (3,1), (2,2), (100, 1), (100, 99.5), (-20, 1)]\n",
    "wynik1 = sortuj_punkty(punkty1)\n",
    "print(wynik1)"
   ]
  },
  {
   "cell_type": "code",
   "execution_count": 31,
   "id": "302e52d1-06ec-45be-9d07-7d12fa83428d",
   "metadata": {},
   "outputs": [
    {
     "name": "stdout",
     "output_type": "stream",
     "text": [
      "[(0, 0), (1, 2), (2, 4), (3, 6), (4, 8), (5, 10), (6, 12), (7, 14), (8, 16), (9, 18)]\n"
     ]
    }
   ],
   "source": [
    "punkty2 = [(x, x+x) for x in range(10)]\n",
    "wynik2 = sortuj_punkty(punkty2)\n",
    "print(wynik2)"
   ]
  },
  {
   "cell_type": "code",
   "execution_count": 32,
   "id": "278e5280-03d2-4d6f-ae36-9c9b5dd2874e",
   "metadata": {},
   "outputs": [
    {
     "name": "stdout",
     "output_type": "stream",
     "text": [
      "[(9, 9), (-1, -2), (1, 2), (10, -10)]\n"
     ]
    }
   ],
   "source": [
    "punkty3 = [(-1, -2), (1,2), (9,9), (10,-10)]\n",
    "wynik3 = sortuj_punkty(punkty3)\n",
    "print(wynik3)"
   ]
  },
  {
   "cell_type": "markdown",
   "id": "9938790c",
   "metadata": {},
   "source": [
    "### Zadanie 4\n",
    "\n",
    "Baza danych w pewnej fikcyjnej szkole przechowywana jest za pomocą struktur danych Pythona. Oceny całej klasy reprezentowane są jako słownik, którego kluczami są uczniowie (napisy z imieniem i nazwiskiem) a wartościami słowniki reprezentujące oceny ucznia. Każdy słownik przedstawiający oceny ucznia ma nazwę przedmiotu jako klucz i listę ocen jako wartość. Oceny zapisane są jako liczby. Fragment przykładowych danych, to\n",
    "```python\n",
    "klasa1h = {\n",
    "    'Hipolit Hipopotamowicz': {\n",
    "        'język polski': [3, 3, 4],\n",
    "        'matematyka': [1, 2, 1, 3, 1],\n",
    "        ...\n",
    "    }, \n",
    "    ...\n",
    "}\n",
    "```\n",
    "#### podpunkt a\n",
    "W szkole uznaje się, że uczeń jest zagrożony z przedmiotu, jeśli jego średnia ocen z danego przedmiotu jest poniżej 2. Napisz funkcję `zagrożenia(klasa)`, która dla klasy reprezentowanej jak poniżej zwróci informację o zagrożeniach jako słownik, którego kluczami będą uczniowie (napisy z imieniem i nazwiskiem) a wartością listy przedmiotów, z których uczeń ma zagrożenie. Przykład użycia\n",
    "```python\n",
    "print(zagrożenia(klasa1h))\n",
    "```\n",
    "da w wyniku między innymi\n",
    "```python\n",
    "{\n",
    "    'Hipolit Hipopotamowicz': ['matematyka'],\n",
    "    ...\n",
    "}\n",
    "```\n",
    "Rozwiązanie umieść w komórce poniżej."
   ]
  },
  {
   "cell_type": "code",
   "execution_count": 86,
   "id": "d4d1c3f3",
   "metadata": {},
   "outputs": [
    {
     "data": {
      "text/plain": [
       "{'Hipolit Hipopotamowicz': ['matematyka'],\n",
       " 'Adam Nowak': ['historia', 'geografia'],\n",
       " 'Kasia Basia': ['jezyk angielski', 'logika']}"
      ]
     },
     "execution_count": 86,
     "metadata": {},
     "output_type": "execute_result"
    }
   ],
   "source": [
    "klasa1h = {\n",
    "    'Hipolit Hipopotamowicz': {\n",
    "        'język polski': [3, 3, 4],\n",
    "        'matematyka': [1, 2, 1, 3, 1],\n",
    "    }, \n",
    "    'Adam Nowak' : {\n",
    "        'matematyka' : [5, 5, 5],\n",
    "        'historia' : [2, 2, 1, 2],\n",
    "        'geografia' : [5, 1, 1, 1, 1],\n",
    "        'wf' : [6, 6, 6]\n",
    "    },\n",
    "    'Eryk Chmielnicki' : {\n",
    "        'matematyka' : [5, 4, 3, 2]\n",
    "    },\n",
    "    'Kasia Basia' : {\n",
    "        'jezyk angielski' : [2, 2, 2, 1],\n",
    "        'logika' : [1, 1, 1, 5, 1, 1, 1, 1]\n",
    "    }\n",
    "}\n",
    "\n",
    "def zagrozenia(klasa):\n",
    "    odp = {}\n",
    "    for uczen in klasa.keys():\n",
    "        przedmioty = []\n",
    "        for przedmiot in klasa[uczen].keys():\n",
    "            if sum(klasa[uczen][przedmiot]) / len(klasa[uczen][przedmiot]) < 2:\n",
    "                przedmioty.append(przedmiot)\n",
    "        if len(przedmioty) > 0: odp.update({uczen : przedmioty})\n",
    "    return odp\n",
    "\n",
    "zagrozenia(klasa1h)"
   ]
  },
  {
   "cell_type": "markdown",
   "id": "4ff63f58-b95b-4118-b0c0-496f7dd81044",
   "metadata": {},
   "source": [
    "#### podpunkt b\n",
    "Napisz funkcję `procent_zagrożonych(klasa)`, która zwróci procent osób mających choć jedno zagrożenie jako liczbę zmiennoprzecinkową z przedziału od $0$ do $100$. Rozwiązanie umieść w komórce poniżej."
   ]
  },
  {
   "cell_type": "code",
   "execution_count": 87,
   "id": "11270a51-0a3a-417d-a5a5-4768560fd72f",
   "metadata": {},
   "outputs": [
    {
     "data": {
      "text/plain": [
       "75.0"
      ]
     },
     "execution_count": 87,
     "metadata": {},
     "output_type": "execute_result"
    }
   ],
   "source": [
    "def procent_zagrozonych(klasa):\n",
    "    return len(zagrozenia(klasa).keys()) / len(klasa.keys()) * 100\n",
    "procent_zagrozonych(klasa1h)"
   ]
  },
  {
   "cell_type": "markdown",
   "id": "d28424b3-4e38-4ed0-b081-e540e9950624",
   "metadata": {},
   "source": [
    "#### podpunkt c\n",
    "Napisz funkcję `osły_dardanelskie(klasa)`, która zwróci listę uczniów mających ex æquo najwięcej zagrożeń. Rozwiązanie umieść w komórce poniżej."
   ]
  },
  {
   "cell_type": "code",
   "execution_count": 88,
   "id": "7fd6724a-e5f8-423d-9e3e-b8130c3ddc5f",
   "metadata": {},
   "outputs": [
    {
     "data": {
      "text/plain": [
       "['Adam Nowak', 'Kasia Basia']"
      ]
     },
     "execution_count": 88,
     "metadata": {},
     "output_type": "execute_result"
    }
   ],
   "source": [
    "def osly_dardanelskie(klasa):\n",
    "    zag = {x : len(zagrozenia(klasa)[x]) for x in zagrozenia(klasa).keys()}\n",
    "    return [uczen for uczen in zag if zag[uczen] == max(zag.values())]\n",
    "\n",
    "osly_dardanelskie(klasa1h)"
   ]
  },
  {
   "cell_type": "markdown",
   "id": "73e32195",
   "metadata": {},
   "source": [
    "### Zadanie 5\n",
    "\n",
    "$n$-wymiarowa hiperkula o promieniu $r > 0$ i środku $S = (0, \\ldots, 0) \\in \\mathbb{R}^n$, to podzbiór $K_n(r)$ przestrzeni $\\mathbb{R}^n$ zdefiniowany następująco\n",
    "$$K_n(r) = \\left\\{x = (x_1, \\ldots, x_n) \\in \\mathbb{R}^n: \\sum_{i=1}^n x_i^2 < r^2 \\right\\}.$$\n",
    "Można pokazać, że objętość hiperkuli wynosi\n",
    "$$V_n(r) = \\frac{\\pi^{\\frac{n}{2}}}{\\Gamma\\left(\\frac{n}{2}+1\\right)}R^n,$$\n",
    "gdzie $\\Gamma$ to funkcja gamma Eulera zdefiniowana jako\n",
    "$$\\Gamma(x) = \\int_0^\\infty t^{x-1} e^{-t} \\,\\mathrm{d}t.$$\n",
    "\n",
    "#### podpunkt a\n",
    "\n",
    "Napisz funkcję `hiperkula(r, n)` obliczającą objętość $n$ wymiarowej hiperkuli o promieniu $r$. Korzystając z tej funkcji, wyznacz objętości kuli dla $r=1$ oraz $n=1, \\ldots, 10$. \n",
    "\n",
    "Podpowiedź: funkcję gamma Eulera znajdziesz w module `math`.\n",
    "\n",
    "Rozwiązanie umieść poniżej."
   ]
  },
  {
   "cell_type": "code",
   "execution_count": 91,
   "id": "60e563f3",
   "metadata": {},
   "outputs": [
    {
     "name": "stdout",
     "output_type": "stream",
     "text": [
      "n = 1 \t 1.9999999999999998\n",
      "n = 2 \t 3.141592653589793\n",
      "n = 3 \t 4.1887902047863905\n",
      "n = 4 \t 4.934802200544679\n",
      "n = 5 \t 5.263789013914325\n",
      "n = 6 \t 5.167712780049969\n",
      "n = 7 \t 4.7247659703314016\n",
      "n = 8 \t 4.058712126416768\n",
      "n = 9 \t 3.2985089027387064\n",
      "n = 10 \t 2.550164039877345\n"
     ]
    }
   ],
   "source": [
    "def hiperkula(r, n):\n",
    "    return (math.pi**(n/2) * r**n)/(math.gamma(n/2 + 1))\n",
    "\n",
    "for i in range(1, 11): print('n =', i, '\\t', hiperkula(1, i))"
   ]
  },
  {
   "cell_type": "markdown",
   "id": "207d2a60",
   "metadata": {},
   "source": [
    "#### podpunkt b\n",
    "\n",
    "Dla jakiej liczby wymiarów objętość hiperkuli o promieniu jeden jest największa?\n",
    "\n",
    "Podpowiedź: Załóżmy, że szukamy $n \\in \\{0, \\ldots, 99\\}$ minimalizującego wartość pewnej funkcji $f(n)$. Rozważ poniższy kod --- jak myślisz, wybranie minimum z listy par zadziała tak, jak tego oczekujemy?\n",
    "```python\n",
    "pary = {(f(n), n) for n in range(100)}\n",
    "min(pary)\n",
    "```\n",
    "\n",
    "Rozwiązanie umieść w komórce poniżej."
   ]
  },
  {
   "cell_type": "code",
   "execution_count": 98,
   "id": "64b58990",
   "metadata": {},
   "outputs": [
    {
     "name": "stdout",
     "output_type": "stream",
     "text": [
      "Dla  5  wymiarow objetosc jest najwieksza.\n"
     ]
    }
   ],
   "source": [
    "pary = {(hiperkula(1, n), n) for n in range(100)}\n",
    "print('Dla ', max(pary)[1], ' wymiarow objetosc jest najwieksza.')"
   ]
  },
  {
   "cell_type": "markdown",
   "id": "3d7a18a0",
   "metadata": {},
   "source": [
    "\n",
    "<div style=\"text-align: right\"> Powodzenia!<br><i>Zespół kursu Wstęp do programowania</i></div>"
   ]
  }
 ],
 "metadata": {
  "kernelspec": {
   "display_name": "Python 3 (ipykernel)",
   "language": "python",
   "name": "python3"
  },
  "language_info": {
   "codemirror_mode": {
    "name": "ipython",
    "version": 3
   },
   "file_extension": ".py",
   "mimetype": "text/x-python",
   "name": "python",
   "nbconvert_exporter": "python",
   "pygments_lexer": "ipython3",
   "version": "3.10.11"
  }
 },
 "nbformat": 4,
 "nbformat_minor": 5
}
