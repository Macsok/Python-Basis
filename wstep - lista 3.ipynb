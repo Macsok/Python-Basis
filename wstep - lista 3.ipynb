{
 "cells": [
  {
   "cell_type": "markdown",
   "id": "817cd8f2",
   "metadata": {},
   "source": [
    "# Wstęp do programowania\n",
    "\n",
    "## Lista 3\n",
    "\n",
    "Uzupełnij swoje dane poniżej, następnie przeczytaj treść zadań i umieść rozwiązania w odpowidenich komórkach pozostawionych w tym celu pod treścią. Pamiętaj dbać o specyfikację, czyli nazwy zmiennych oraz odpowiednie rozmieszczenie komórek. Jeśli uruchomisz wszystkie komórki, dokument powinien działać bez błędów."
   ]
  },
  {
   "cell_type": "markdown",
   "id": "76926f19",
   "metadata": {},
   "source": [
    "  * **Imię:** ...\n",
    "  * **Nazwisko:** ...\n",
    "  * **Numer indeksu:** ..."
   ]
  },
  {
   "cell_type": "markdown",
   "id": "f179d9a1",
   "metadata": {},
   "source": [
    "W rozwiązaniach zadań możesz korzystać z biblioteki `math`. Staraj się nie korzystać z materiału dotyczącego 4 wykładu, czyli funkcji oraz instrukcji sterujących. Spróbuj rozwiązać zadania wykorzystując struktury składane."
   ]
  },
  {
   "cell_type": "code",
   "execution_count": 12,
   "id": "2ceefa09",
   "metadata": {},
   "outputs": [],
   "source": [
    "import math"
   ]
  },
  {
   "cell_type": "markdown",
   "id": "7e8a62e4-59fc-42e0-959b-4bd9ebd14480",
   "metadata": {},
   "source": [
    "### Zadanie 1\n",
    "Zapoznaj się z dokumentacją funkcji `zip` oraz przykładem poniżej."
   ]
  },
  {
   "cell_type": "code",
   "execution_count": 2,
   "id": "3c4930a6-67ba-4a7c-9a9b-89e45231a4e2",
   "metadata": {},
   "outputs": [
    {
     "data": {
      "text/plain": [
       "[(1, 'a'), (2, 'b'), (3, 'c')]"
      ]
     },
     "execution_count": 2,
     "metadata": {},
     "output_type": "execute_result"
    }
   ],
   "source": [
    "lista = [1, 2, 3]\n",
    "inna = ['a', 'b', 'c']\n",
    "list(zip(lista, inna))"
   ]
  },
  {
   "cell_type": "markdown",
   "id": "f505ab50-5041-4281-9b4e-de3a30e48520",
   "metadata": {},
   "source": [
    "Opisz własnymi słowami, jak na podstawie listy `L`, powstanie lista\n",
    "```python\n",
    "list(zip(L[1:], L[:-1]))\n",
    "```\n",
    "\n",
    "Opis umieść w komórce poniżej. Możesz korzystać ze wzorów i fragmentów kodu."
   ]
  },
  {
   "cell_type": "markdown",
   "id": "310f6ab7-3e3c-425a-9920-4da4368825ae",
   "metadata": {},
   "source": [
    "Na podstwaie listy `L` powstanie nowa lista długości listy `len(L) - 1`, której elementy będą krotkami (z elementów listy `L`) postaci: (`L[i + 1]`, `L[i]`), dla `i = 0, 1, 2, ..., L.__len__() - 1`. `L[1:]` odpowiada liscie `L` bez pierwszego elementu, a `L[:-1]` liście `L` bez ostatniego elementu - obie listy mają taką samą długość równą `len(L) -1`."
   ]
  },
  {
   "cell_type": "markdown",
   "id": "3aa02a87-066e-4e27-a9d2-1405686dd1f8",
   "metadata": {},
   "source": [
    "### Zadanie 2\n",
    "\n",
    "Niech\n",
    "$$X_n = \\sum_{k=1}^n \\frac{(-1)^k}{k}.$$\n",
    "Zdefiniuj listę `L` wartości ciągu $X_n$ dla $n=1, \\ldots, 100$.\n",
    "\n",
    "Rozwiązanie umieść w komórce poniżej."
   ]
  },
  {
   "cell_type": "code",
   "execution_count": 1,
   "id": "f7c74720-fe8e-483d-a4c8-3703ea4c2bd8",
   "metadata": {},
   "outputs": [],
   "source": [
    "L = [sum([(-1)**k/k for k in range(1, a + 1)]) for a in range(1, 101)]"
   ]
  },
  {
   "cell_type": "markdown",
   "id": "87e972a7",
   "metadata": {},
   "source": [
    "### Zadanie 3\n",
    "\n",
    "#### podpunkt a\n",
    "\n",
    "Czy istnieje trójkąt pitagorejski (prostokątny o całkowitych długościach boków) o obwodzie równym 1000?\n",
    "\n",
    "Podpowiedź 1: spróbuj wygenerować wszystkie trójkąty o bokach całkowitych i obwodzie równym 1000 za pomocą list składanych --- czy znajdziesz wśród nich jakiś trójkąt prostokątny?\n",
    "\n",
    "Podpowiedź 2: rozważ następujący zbiór szukanych trójkątów zapisanych jako trójkę długości boków:\n",
    "$$\\{(a, b, c): a \\in \\{1, \\ldots, 1000\\}, b \\in \\{1, \\ldots, 1000\\}, c \\in \\{1, \\ldots, 1000\\}, a+b+c = 1000 \\text{ i } a^2 + b^2 = c^2 \\},$$\n",
    "czy potrafisz:\n",
    "\n",
    "  - Wyeliminować $c$ z tego wzoru, korzystając z tego, że znasz obwód trójkąta?\n",
    "  - Dodać warunek, który pozwoli traktować $(a, b, c)$ oraz $(b, a, c)$ jako ten sam trójkąt? Postaraj się zapisać go odpowiednio dobierając wartości, do jakich może należeć $b$.\n",
    "  - Wytłumaczyć, dlaczego wartości $a$ i $b$ nie muszą osiągać dużych wartości (np.: wartości $997$).\n",
    "  \n",
    "Rozwiązanie umieść w komórce poniżej."
   ]
  },
  {
   "cell_type": "code",
   "execution_count": 31,
   "id": "9e940f2f",
   "metadata": {},
   "outputs": [
    {
     "name": "stdout",
     "output_type": "stream",
     "text": [
      "[(200, 375, 425)]\n",
      "[(200, 375, 425)]\n"
     ]
    }
   ],
   "source": [
    "A = B = C = [i + 1 for i in range(1000)]\n",
    "trk = [(a, b, c) for a in A for b in B for c in C if (a + b + c == 1000) and (a**2 + b**2 == c**2) and (a <= b)]\n",
    "print(trk)\n",
    "\n",
    "# bez c, duplikaty wyeliminowane, w odpowiedzi na podpunkt c: dla dużych wartości, np. 997, żeby utworzyć kąt prosty, parą musiałoby być ok. 77, a 77 + 997 > 1000.\n",
    "trk = [(a, b, 1000 - a - b) for a in A for b in B if (a + b < 1000) and (a**2 + b**2 == (1000 - a - b)**2) and (a <= b)]\n",
    "print(trk)"
   ]
  },
  {
   "cell_type": "markdown",
   "id": "9938790c",
   "metadata": {},
   "source": [
    "#### podpunkt b\n",
    "\n",
    "Spośród trójkątów pitagorejskich o najdłuższym boku nieprzekraczającym $50$ wybierz jeden o najmniejszym i największym polu powierzchni. Ile razy większy od najmniejszego jest największy trójkąt?\n",
    "\n",
    "Podpowiedź: pamiętaj, że możesz sortować listy za pomocą metody `sort` lub funkcji `sorted`.\n",
    "\n",
    "Rozwiązanie umieść w komórce poniżej."
   ]
  },
  {
   "cell_type": "code",
   "execution_count": 32,
   "id": "d4d1c3f3",
   "metadata": {},
   "outputs": [
    {
     "name": "stdout",
     "output_type": "stream",
     "text": [
      "Najmniejsze pole:  6.0 \n",
      "Największe:  600.0 \n",
      "Duże jest  100.0  razy większe od małego.\n"
     ]
    }
   ],
   "source": [
    "A = B = C = [i + 1 for i in range(50)]\n",
    "pitagor = [(a * b * 0.5) for a in A for b in B for c in C if (a**2 + b**2 == c**2) and (a <= b)]\n",
    "pitagor = sorted(pitagor)\n",
    "print(\"Najmniejsze pole: \", min(pitagor), \"\\nNajwiększe: \", max(pitagor), \"\\nDuże jest \", max(pitagor)/min(pitagor), \" razy większe od małego.\")\n"
   ]
  },
  {
   "cell_type": "markdown",
   "id": "8dc2854c-223a-44ff-ae6c-a8f31e8af5bd",
   "metadata": {},
   "source": [
    "### Zadanie 4\n",
    "\n",
    "Załóżmy, że w zmiennej `S` znajduje się zbiór niektórych województw, natomiast w zmiennej `D` słownik, który każdemu województwu przyporządkowuje zbiór miast, w których znajduje się siedziba władz wojewódzkich. Obie zmienne zdefiniowane są w komórce poniżej."
   ]
  },
  {
   "cell_type": "code",
   "execution_count": 3,
   "id": "93258632-8095-41e5-ae56-9ad4d58c9aff",
   "metadata": {},
   "outputs": [],
   "source": [
    "S = {'dolnośląskie', 'lubuskie', 'wielkopolskie'}\n",
    "D = {\n",
    "    'dolnośląskie': {'Wrocław'},\n",
    "    'kujawsko-pomorskie': {'Bydgoszcz', 'Toruń'},\n",
    "    'lubelskie': {'Lublin'},\n",
    "    'lubuskie': {'Gorzów Wielkopolski', 'Zielona Góra'},\n",
    "    'łódzkie': {'Łódź'},\n",
    "    'małopolskie': {'Kraków'},\n",
    "    'mazowieckie': {'Warszawa'},\n",
    "    'opolskie': {'Opole'},\n",
    "    'podkarpackie': {'Rzeszów'},\n",
    "    'podlaskie': {'Białystok'},\n",
    "    'pomorskie': {'Gdańsk'},\n",
    "    'śląskie': {'Katowice'},\n",
    "    'świętokrzyskie': {'Kielce'},\n",
    "    'warmińsko-mazurskie': {'Olsztyn'},\n",
    "    'wielkopolskie': {'Poznań'},\n",
    "    'zachodniopomorskie': {'Szczecin'}\n",
    "}"
   ]
  },
  {
   "cell_type": "markdown",
   "id": "9e9220ce-9d75-41f4-aa44-b41ae1b971bc",
   "metadata": {},
   "source": [
    "#### podpunkt a\n",
    "\n",
    "Stwórz zbiór miast, w których znajdują się siedziby władz województw ze słownika `S`. Rozwiązanie umieść w komórce poniżej."
   ]
  },
  {
   "cell_type": "code",
   "execution_count": 6,
   "id": "cafa7f95-93cb-4273-a810-98bb0efd70b6",
   "metadata": {},
   "outputs": [
    {
     "name": "stdout",
     "output_type": "stream",
     "text": [
      "{'Gorzów Wielkopolski', 'Zielona Góra', 'Poznań', 'Wrocław'}\n"
     ]
    }
   ],
   "source": [
    "miasta = {miasto for woj in S for miasto in D[woj]}\n",
    "print(miasta)"
   ]
  },
  {
   "cell_type": "markdown",
   "id": "c429d730-8799-41c2-b1dd-049578ea016e",
   "metadata": {},
   "source": [
    "#### podpunkt b\n",
    "\n",
    "Zdefiniujmy zbiór miast."
   ]
  },
  {
   "cell_type": "code",
   "execution_count": 7,
   "id": "2f19ca65-af76-429e-9b2b-f484a3cfaff9",
   "metadata": {},
   "outputs": [],
   "source": [
    "M = {'Wrocław', 'Opole', 'Zielona Góra', 'Gorzów Wielkopolski'}"
   ]
  },
  {
   "cell_type": "markdown",
   "id": "dc60b47b-d5ce-4053-ba02-4ff35ab4f7b9",
   "metadata": {},
   "source": [
    "Wykorzystując słownik `D` znajdź zbiór województw, których siedziby władz znajdują się w zbiorze `M`. Rozwiązanie umieść w komórce poniżej."
   ]
  },
  {
   "cell_type": "code",
   "execution_count": 10,
   "id": "4e0e1ee1-d4f7-4410-a814-b61992ece194",
   "metadata": {
    "scrolled": true
   },
   "outputs": [
    {
     "data": {
      "text/plain": [
       "{'dolnośląskie', 'lubuskie', 'opolskie'}"
      ]
     },
     "execution_count": 10,
     "metadata": {},
     "output_type": "execute_result"
    }
   ],
   "source": [
    "# iterowanie po obu elementach slownika, items - elementy, keys - klucze, values - wartosci przypisane kluczom\n",
    "R = {woj for woj, miasta_w_woj in D.items() for miasto in M if miasto in miasta_w_woj}\n",
    "R"
   ]
  },
  {
   "cell_type": "markdown",
   "id": "e8f7447b-7c95-41d3-b87c-a1cf3c0ce71d",
   "metadata": {},
   "source": [
    "### Zadanie 5\n",
    "\n",
    "Stwórz słownik, w którym kluczami są kąty nachylenia do dodatniej półosi OX w stopniach, natomiast wartościami współrzędne 101 punktów równomiernie rozmieszczonych na okręgu jednostkowym. Przynajmniej jeden punkt powinien leżeć na dodatniej półosi OX. Rozwiązanie umieść w komórce poniżej."
   ]
  },
  {
   "cell_type": "code",
   "execution_count": 17,
   "id": "806c0f94-da09-42c1-9efb-18489efe084f",
   "metadata": {},
   "outputs": [
    {
     "data": {
      "text/plain": [
       "{0.0: (1.0, 0.0),\n",
       " 0.062209755516629564: (0.9980655971335943, 0.062169637431480525),\n",
       " 0.12441951103325913: (0.9922698723632765, 0.12409875261325934),\n",
       " 0.1866292665498887: (0.9826352482222637, 0.18554775382949326),\n",
       " 0.24883902206651826: (0.9691989991996661, 0.24627890683200135),\n",
       " 0.3110487775831478: (0.9520131075327299, 0.3060572545878873),\n",
       " 0.3732585330997774: (0.9311440620976595, 0.3646515262826552),\n",
       " 0.43546828861640696: (0.9066726011770726, 0.42183503206206224),\n",
       " 0.4976780441330365: (0.8786934000992688, 0.477386540051127),\n",
       " 0.5598877996496661: (0.8473147049577775, 0.531091132257275),\n",
       " 0.6220975551662956: (0.8126579138282503, 0.5827410360463009),\n",
       " 0.6843073106829252: (0.7748571071028899, 0.6321364279743263),\n",
       " 0.7465170661995548: (0.7340585287594601, 0.6790862068658859),\n",
       " 0.8087268217161845: (0.6904200205717467, 0.7234087331472498),\n",
       " 0.8709365772328139: (0.6441104114503978, 0.7649325315746476),\n",
       " 0.9331463327494435: (0.5953088642766661, 0.8034969546386757),\n",
       " 0.995356088266073: (0.5442041827560273, 0.8389528040783012),\n",
       " 1.0575658437827027: (0.4909940809733222, 0.8711629080999505),\n",
       " 1.1197755992993321: (0.4358844184753712, 0.90000265206853),\n",
       " 1.1819853548159618: (0.3790884038403794, 0.9253604606172415),\n",
       " 1.2441951103325912: (0.3208257698153678, 0.9471382293110001),\n",
       " 1.3064048658492209: (0.26132192321286074, 0.9652517041934356),\n",
       " 1.3686146213658503: (0.20080707285571867, 0.9796308077490816),\n",
       " 1.43082437688248: (0.13951533894392312, 0.9902199100196695),\n",
       " 1.4930341323991096: (0.07768384728900624, 0.9969780438256293),\n",
       " 1.5552438879157393: (0.015551811920350793, 0.9998790632601495),\n",
       " 1.617453643432369: (-0.046640390387417706, 0.9989117448426108),\n",
       " 1.6796633989489982: (-0.10865215008547437, 0.9940798309400526),\n",
       " 1.7418731544656278: (-0.1702435557223985, 0.9854020152886813),\n",
       " 1.8040829099822575: (-0.23117632211496966, 0.9729118706714375),\n",
       " 1.866292665498887: (-0.2912147122272519, 0.9566577190314197),\n",
       " 1.9285024210155164: (-0.35012644919139047, 0.9367024445236751),\n",
       " 1.990712176532146: (-0.4076836149416887, 0.9131232502286188),\n",
       " 2.052921932048776: (-0.46366353198532745, 0.8860113594683148),\n",
       " 2.1151316875654054: (-0.5178496248983254, 0.8554716628811638),\n",
       " 2.177341443082035: (-0.5700322582137827, 0.8216223126204008),\n",
       " 2.2395511985986643: (-0.620009547460775, 0.7845942652463661),\n",
       " 2.301760954115294: (-0.6675881402161536, 0.7445307750810152),\n",
       " 2.3639707096319236: (-0.7125839641475069, 0.7015868399847767),\n",
       " 2.426180465148553: (-0.7548229391532568, 0.65592860169994),\n",
       " 2.4883902206651825: (-0.7941416508447533, 0.607732703080532),\n",
       " 2.550599976181812: (-0.8303879827647973, 0.5571856046954289),\n",
       " 2.6128097316984418: (-0.8634217048966635, 0.5044828634486398),\n",
       " 2.675019487215071: (-0.8931150161867915, 0.44982837600763603),\n",
       " 2.7372292427317007: (-0.9193530389822362, 0.3934335899667527),\n",
       " 2.7994389982483305: (-0.9420342634699891, 0.335516685797525),\n",
       " 2.86164875376496: (-0.9610709403987245, 0.2763017327508305),\n",
       " 2.92385850928159: (-0.976389420563607, 0.2160178219764834),\n",
       " 2.9860682647982193: (-0.9879304397407567, 0.1548981802140847),\n",
       " 3.0482780203148487: (-0.9956493479690186, 0.09317926748407171),\n",
       " 3.1104877758314786: (-0.9995162822919881, 0.031099862269836753),\n",
       " 3.1726975313481076: (-0.9995162822919881, -0.031099862269836506),\n",
       " 3.234907286864738: (-0.9956493479690185, -0.09317926748407192),\n",
       " 3.297117042381367: (-0.9879304397407568, -0.15489818021408444),\n",
       " 3.3593267978979964: (-0.9763894205636071, -0.21601782197648314),\n",
       " 3.4215365534146263: (-0.9610709403987245, -0.27630173275083025),\n",
       " 3.4837463089312557: (-0.9420342634699892, -0.3355166857975248),\n",
       " 3.545956064447885: (-0.9193530389822364, -0.3934335899667521),\n",
       " 3.608165819964515: (-0.8931150161867916, -0.4498283760076358),\n",
       " 3.6703755754811445: (-0.8634217048966636, -0.5044828634486397),\n",
       " 3.732585330997774: (-0.8303879827647976, -0.5571856046954283),\n",
       " 3.794795086514404: (-0.7941416508447534, -0.6077327030805317),\n",
       " 3.8570048420310328: (-0.7548229391532574, -0.6559286016999396),\n",
       " 3.919214597547663: (-0.7125839641475068, -0.7015868399847768),\n",
       " 3.981424353064292: (-0.6675881402161539, -0.744530775081015),\n",
       " 4.043634108580922: (-0.6200095474607752, -0.784594265246366),\n",
       " 4.105843864097552: (-0.5700322582137825, -0.8216223126204009),\n",
       " 4.168053619614181: (-0.5178496248983256, -0.8554716628811637),\n",
       " 4.230263375130811: (-0.4636635319853273, -0.8860113594683148),\n",
       " 4.29247313064744: (-0.4076836149416893, -0.9131232502286186),\n",
       " 4.35468288616407: (-0.3501264491913909, -0.9367024445236749),\n",
       " 4.4168926416806995: (-0.291214712227252, -0.9566577190314197),\n",
       " 4.4791023971973285: (-0.2311763221149701, -0.9729118706714374),\n",
       " 4.541312152713958: (-0.17024355572239874, -0.9854020152886813),\n",
       " 4.603521908230588: (-0.10865215008547438, -0.9940798309400526),\n",
       " 4.665731663747217: (-0.04664039038741795, -0.9989117448426108),\n",
       " 4.727941419263847: (0.015551811920350768, -0.9998790632601495),\n",
       " 4.790151174780477: (0.07768384728900643, -0.9969780438256293),\n",
       " 4.852360930297106: (0.13951533894392268, -0.9902199100196695),\n",
       " 4.914570685813736: (0.20080707285571842, -0.9796308077490816),\n",
       " 4.976780441330365: (0.2613219232128601, -0.9652517041934358),\n",
       " 5.038990196846995: (0.32082576981536737, -0.9471382293110002),\n",
       " 5.101199952363624: (0.3790884038403785, -0.9253604606172419),\n",
       " 5.1634097078802546: (0.4358844184753714, -0.9000026520685299),\n",
       " 5.2256194633968835: (0.490994080973322, -0.8711629080999506),\n",
       " 5.287829218913513: (0.5442041827560273, -0.8389528040783012),\n",
       " 5.350038974430142: (0.5953088642766656, -0.803496954638676),\n",
       " 5.412248729946772: (0.6441104114503976, -0.7649325315746478),\n",
       " 5.474458485463401: (0.6904200205717462, -0.7234087331472503),\n",
       " 5.536668240980032: (0.7340585287594603, -0.6790862068658856),\n",
       " 5.598877996496661: (0.7748571071028897, -0.6321364279743266),\n",
       " 5.66108775201329: (0.8126579138282498, -0.5827410360463015),\n",
       " 5.72329750752992: (0.8473147049577773, -0.5310911322572754),\n",
       " 5.785507263046549: (0.8786934000992683, -0.4773865400511279),\n",
       " 5.84771701856318: (0.9066726011770726, -0.4218350320620621),\n",
       " 5.909926774079809: (0.9311440620976594, -0.3646515262826555),\n",
       " 5.972136529596439: (0.9520131075327298, -0.30605725458788735),\n",
       " 6.034346285113068: (0.969198999199666, -0.24627890683200196),\n",
       " 6.0965560406296975: (0.9826352482222637, -0.18554775382949354),\n",
       " 6.158765796146327: (0.9922698723632765, -0.12409875261325932),\n",
       " 6.220975551662957: (0.9980655971335943, -0.0621696374314802)}"
      ]
     },
     "execution_count": 17,
     "metadata": {},
     "output_type": "execute_result"
    }
   ],
   "source": [
    "punkty = {(fi := 2*x*math.pi / 101):(math.cos(fi), math.sin(fi)) for x in range(101)}\n",
    "punkty"
   ]
  },
  {
   "cell_type": "markdown",
   "id": "bddd6220-13ea-43fb-a42c-fdf89fc8168a",
   "metadata": {},
   "source": [
    "Sprawdź niektóre punkty, aby upewnić się, że dobrze rozwiązałeś zadanie."
   ]
  },
  {
   "cell_type": "code",
   "execution_count": 25,
   "id": "629789c8-7e80-453b-9f88-7e9b73e93105",
   "metadata": {},
   "outputs": [
    {
     "data": {
      "text/plain": [
       "True"
      ]
     },
     "execution_count": 25,
     "metadata": {},
     "output_type": "execute_result"
    }
   ],
   "source": [
    "punkty[0] == (1, 0)  # powinniśmy zobaczyć True (x, y)"
   ]
  },
  {
   "cell_type": "markdown",
   "id": "3d7a18a0",
   "metadata": {},
   "source": [
    "\n",
    "<div style=\"text-align: right\"> Powodzenia!<br><i>Zespół kursu Wstęp do programowania</i></div>"
   ]
  }
 ],
 "metadata": {
  "kernelspec": {
   "display_name": "Python 3 (ipykernel)",
   "language": "python",
   "name": "python3"
  },
  "language_info": {
   "codemirror_mode": {
    "name": "ipython",
    "version": 3
   },
   "file_extension": ".py",
   "mimetype": "text/x-python",
   "name": "python",
   "nbconvert_exporter": "python",
   "pygments_lexer": "ipython3",
   "version": "3.10.11"
  }
 },
 "nbformat": 4,
 "nbformat_minor": 5
}
