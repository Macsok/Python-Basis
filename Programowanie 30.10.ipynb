{
 "cells": [
  {
   "cell_type": "code",
   "execution_count": 27,
   "metadata": {},
   "outputs": [
    {
     "name": "stdout",
     "output_type": "stream",
     "text": [
      "XXXXXXX\n",
      "X     X\n",
      "X     X\n",
      "XXXXXXX\n",
      "XXXXXXX\n",
      "X     X\n",
      "X     X\n",
      "XXXXXXX\n"
     ]
    }
   ],
   "source": [
    "szer = int(input(\"szerokosc: \"))\n",
    "wys = int(input(\"wysokosc: \"))\n",
    "\n",
    "def prost(wys, szer):\n",
    "    for y in range(wys):\n",
    "        if y == 0 or y == wys - 1:\n",
    "            print(\"X\" * szer)\n",
    "        else:\n",
    "            print(\"X\", \" \" * (szer - 4), \"X\")\n",
    "\n",
    "for i in range(2):\n",
    "    prost(wys, szer)"
   ]
  },
  {
   "cell_type": "code",
   "execution_count": 73,
   "metadata": {},
   "outputs": [
    {
     "data": {
      "text/plain": [
       "'al* m* kot*a'"
      ]
     },
     "execution_count": 73,
     "metadata": {},
     "output_type": "execute_result"
    }
   ],
   "source": [
    "def podmien(slowo):\n",
    "    lista = list(slowo)\n",
    "    first = slowo.find('a')\n",
    "    last = len(slowo) - slowo[::-1].find('a') - 1\n",
    "    for i in range(len(slowo)):\n",
    "        if slowo[i] == 'a' and i != first and i != last:\n",
    "            lista[i] = \"*\"\n",
    "    return \"\".join(lista)\n",
    "\n",
    "slowo = \"ala ma kotaa\"\n",
    "podmien(slowo)\n"
   ]
  },
  {
   "cell_type": "code",
   "execution_count": 44,
   "metadata": {},
   "outputs": [
    {
     "name": "stdout",
     "output_type": "stream",
     "text": [
      "Słowo nie jest palindromem.\n"
     ]
    }
   ],
   "source": [
    "templ = \"Słowo {}jest palindromem.\"\n",
    "s = input(\"Podaj slowo: \")\n",
    "print(templ.format(\"\") if s == s[::-1] else templ.format(\"nie \"))"
   ]
  },
  {
   "cell_type": "code",
   "execution_count": 37,
   "metadata": {},
   "outputs": [
    {
     "name": "stdout",
     "output_type": "stream",
     "text": [
      "Godziny:  3429 \n",
      "Minuty:  21 \n",
      "Sekundy:  18\n"
     ]
    }
   ],
   "source": [
    "def sec(secs):\n",
    "    hour = 0\n",
    "    mins = 0\n",
    "    secs = int(secs)\n",
    "    hour = secs // 3600\n",
    "    secs -= hour * 3600\n",
    "    mins = secs // 60\n",
    "    secs -= mins * 60\n",
    "    print(\"Godziny: \", hour, \"\\nMinuty: \", mins, \"\\nSekundy: \",secs)\n",
    "\n",
    "a = int(input(\"Podaj czas w sekundach: \"))\n",
    "sec(a)"
   ]
  }
 ],
 "metadata": {
  "kernelspec": {
   "display_name": "Python 3",
   "language": "python",
   "name": "python3"
  },
  "language_info": {
   "codemirror_mode": {
    "name": "ipython",
    "version": 3
   },
   "file_extension": ".py",
   "mimetype": "text/x-python",
   "name": "python",
   "nbconvert_exporter": "python",
   "pygments_lexer": "ipython3",
   "version": "3.10.11"
  }
 },
 "nbformat": 4,
 "nbformat_minor": 2
}
