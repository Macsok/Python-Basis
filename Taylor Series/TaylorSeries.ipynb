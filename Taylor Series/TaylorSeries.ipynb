{
 "cells": [
  {
   "cell_type": "code",
   "execution_count": 151,
   "metadata": {},
   "outputs": [],
   "source": [
    "from matplotlib import pyplot as plt\n",
    "import matplotlib\n",
    "import numpy as np\n",
    "import math\n",
    "import sympy\n",
    "\n",
    "#matplotlib configuration to save as pgf\n",
    "matplotlib.use(\"pgf\")\n",
    "matplotlib.rcParams.update({\n",
    "    \"pgf.texsystem\": \"pdflatex\",\n",
    "    'font.family': 'serif',\n",
    "    'text.usetex': True,\n",
    "    'pgf.rcfonts': False,\n",
    "})\n",
    "\n",
    "#returns taylor series (n elements)\n",
    "def TaylorSeries(func, n, x_0 = 0):\n",
    "    out = ''\n",
    "    last = func\n",
    "    for i in range(0, n + 1):\n",
    "        out = str(out) + ' + ' + str(getValue(last, x_0) * (x-x_0)**i / math.factorial(i))\n",
    "        last = sympy.Derivative(last, 'x').doit()\n",
    "    return (out)\n",
    "\n",
    "#returns array of values from taylor series\n",
    "def Taylor_values(func, n, array, x_0 = 0):\n",
    "    taylor = str(TaylorSeries(func, n, x_0))\n",
    "    return [getValue(taylor, x) for x in array]\n",
    "\n",
    "#returns value from expression\n",
    "def getValue(sympy_expr, x_0):\n",
    "    x = sympy.symbols('x')\n",
    "    func = sympy.lambdify(x, sympy_expr)\n",
    "    return func(x_0)\n",
    "\n",
    "#plots provided function and its Taylor series in point x_0\n",
    "def generatePlot(func, n, a, b, x_0, save_as):\n",
    "    arr = np.linspace(a, b)\n",
    "    plt.plot(arr, [getValue(func, x) for x in arr])\n",
    "    plt.plot(arr, Taylor_values(func, n, arr, x_0))\n",
    "    plt.scatter(x_0, f(x_0), color = 'green')\n",
    "    plt.annotate(\"common point\", (x_0 - 1, f(x_0) - 1), color = 'green')\n",
    "    plt.ylim(top=b, bottom=a)\n",
    "    plt.savefig('plots/' + save_as)\n",
    "    plt.close()\n",
    "\n",
    "#generatePlot('x', 1, 1, 2, 0, 'test.pgf')"
   ]
  }
 ],
 "metadata": {
  "kernelspec": {
   "display_name": "Python 3",
   "language": "python",
   "name": "python3"
  },
  "language_info": {
   "codemirror_mode": {
    "name": "ipython",
    "version": 3
   },
   "file_extension": ".py",
   "mimetype": "text/x-python",
   "name": "python",
   "nbconvert_exporter": "python",
   "pygments_lexer": "ipython3",
   "version": "3.10.11"
  }
 },
 "nbformat": 4,
 "nbformat_minor": 2
}
