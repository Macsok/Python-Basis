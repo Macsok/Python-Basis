{
 "cells": [
  {
   "cell_type": "markdown",
   "id": "9a140fbd",
   "metadata": {},
   "source": [
    "# Wstęp do programowania\n",
    "\n",
    "## Lista 1\n",
    "\n",
    "Uzupełnij swoje dane poniżej, następnie przeczytaj treść zadań i umieść rozwiązania w odpowidenich komórkach pozostawionych w tym celu pod treścią. Pamiętaj dbać o specyfikację, czyli nazwy zmiennych oraz odpowiednie rozmieszczenie komórek. Jeśli uruchomisz wszystkie komórki, dokument powinien działać bez błędów."
   ]
  },
  {
   "cell_type": "markdown",
   "id": "92a9ca1b",
   "metadata": {},
   "source": [
    "  * **Imię:** Maciej\n",
    "  * **Nazwisko:** S\n",
    "  * **Numer indeksu:** "
   ]
  },
  {
   "cell_type": "markdown",
   "id": "c5095a79",
   "metadata": {},
   "source": [
    "### Zadanie 1\n",
    "\n",
    "Zapoznaj się z [dokumentacją](https://docs.python.org/3/reference/expressions.html#operator-precedence) opisującą kolejność wykonywania oraz wiązanie operatorów. \n",
    "\n",
    "#### Podpunkt a\n",
    "\n",
    "Zaproponuj fragment kodu pokazujący, że operator potęgowania `**` ma wyższy priorytet niż operator mnożenia."
   ]
  },
  {
   "cell_type": "code",
   "execution_count": 3,
   "id": "6d7237af",
   "metadata": {},
   "outputs": [
    {
     "data": {
      "text/plain": [
       "True"
      ]
     },
     "execution_count": 3,
     "metadata": {},
     "output_type": "execute_result"
    }
   ],
   "source": [
    "3 * 2 ** 2 == 2 ** 2 * 3"
   ]
  },
  {
   "cell_type": "markdown",
   "id": "bd9e2e40",
   "metadata": {},
   "source": [
    "#### Podpunkt b\n",
    "\n",
    "O wiązaniu w lewo mówimy, gdy wyrażenie `a + b + c` jest rozumiane jako `(a + b) + c`, natomiast w prawo, gdy `a + b + c = a + (b + c)`. Jest to istotne, ponieważ jak wiemy z wykładu, operacje zmiennoprzecinkowe nie muszą być łączne, zatem oba nawiasowania mogą dać różne wyniki nawet dla dodawania (które w języku Python wiąże w lewo).\n",
    "\n",
    "Dobierz przykłady pokazujące, że operator potęgowania wiąże w prawo."
   ]
  },
  {
   "cell_type": "code",
   "execution_count": 7,
   "id": "87fd32c2",
   "metadata": {},
   "outputs": [
    {
     "name": "stdout",
     "output_type": "stream",
     "text": [
      "True\n"
     ]
    },
    {
     "data": {
      "text/plain": [
       "False"
      ]
     },
     "execution_count": 7,
     "metadata": {},
     "output_type": "execute_result"
    }
   ],
   "source": [
    "print(2 ** 2 ** 3 == 2 ** 8)\n",
    "2 ** 3 ** 2 == 8 ** 2"
   ]
  },
  {
   "cell_type": "markdown",
   "id": "9a4c4374",
   "metadata": {},
   "source": [
    "### Zadanie 2\n",
    "\n",
    "Oblicz pole trójkąta o zadanych bokach, zapisanych w zmiennych `a`, `b` oraz `c`."
   ]
  },
  {
   "cell_type": "code",
   "execution_count": 10,
   "id": "05cfecd3",
   "metadata": {},
   "outputs": [],
   "source": [
    "a = 3\n",
    "b = 5\n",
    "c = 7\n",
    "# Wzrór Herona\n",
    "p = 0.5 * (a+b+c)\n",
    "pole = (p * (p - a) * (p - b) * (p - c)) ** 0.5"
   ]
  },
  {
   "cell_type": "markdown",
   "id": "ea8d318d",
   "metadata": {},
   "source": [
    "_Rozwiązanie umieść poniżej, po wywołaniu komórki odpowiedź powinna być zapisana w zmiennej `pole`. Możesz utworzyć dowolnie wiele zmiennych pomocniczych._"
   ]
  },
  {
   "cell_type": "code",
   "execution_count": 11,
   "id": "edb1d720",
   "metadata": {},
   "outputs": [],
   "source": [
    "pole = pole"
   ]
  },
  {
   "cell_type": "markdown",
   "id": "6c39dac8",
   "metadata": {},
   "source": [
    "**Odpowiedź:** Pole wynosi"
   ]
  },
  {
   "cell_type": "code",
   "execution_count": 12,
   "id": "9fb73f1e",
   "metadata": {},
   "outputs": [
    {
     "data": {
      "text/plain": [
       "6.49519052838329"
      ]
     },
     "execution_count": 12,
     "metadata": {},
     "output_type": "execute_result"
    }
   ],
   "source": [
    "pole"
   ]
  },
  {
   "cell_type": "markdown",
   "id": "84b643fb",
   "metadata": {},
   "source": [
    "### Zadanie 3\n",
    "\n",
    "Dzień juliański to liczba dni od 1 stycznia 4713 r. p.n.e. według kalendarza juliańskiego. Jeśli dzień, którego szukamy jest w zmiennych $D$, $M$, $R$ oznaczających dzień, miesiąc i rok odpowiednio, dzień juliański $d$ wyliczymy ze wzorów\n",
    "\n",
    "$$ a = \\left\\lfloor\\frac{14 - M}{12}\\right\\rfloor, $$\n",
    "$$ y = R + 4800 - a,$$\n",
    "$$ m = M + 12a - 3,$$\n",
    "$$ d = D + \\left\\lfloor\\frac{153m+2}{5}\\right\\rfloor + 365y+ \\left\\lfloor\\frac{y}{4}\\right\\rfloor - \\left\\lfloor\\frac{y}{100}\\right\\rfloor + \\left\\lfloor\\frac{y}{400}\\right\\rfloor - 32045.$$\n",
    "\n",
    "#### Podpunkt a\n",
    "\n",
    "Oblicz dzień juliański odpowiadający dacie 29 maja 2015 roku (jest to data formalnego wydzielenia Wydziału Matematyki Politechniki Wrocławskiej z Wydziału Podstawowych Problemów Techniki)."
   ]
  },
  {
   "cell_type": "code",
   "execution_count": 17,
   "id": "4b340c58",
   "metadata": {},
   "outputs": [],
   "source": [
    "import math\n",
    "D1 = 29\n",
    "M1 = 5\n",
    "R1 = 2015\n",
    "a = math.floor((14 - M1) / 12)\n",
    "y = R1 + 4800 - a\n",
    "m = M1 + 12 * a - 3\n",
    "d = D1 + math.floor((153 * m + 2) / 5) + 365 * y + math.floor(y / 4) - math.floor(y / 100) + math.floor(y / 400) - 32045"
   ]
  },
  {
   "cell_type": "markdown",
   "id": "5d443dd6",
   "metadata": {},
   "source": [
    "_Rozwiązanie umieść poniżej, po wywołaniu komórki odpowiedź powinna być zapisana w zmiennej `wmat`. Możesz utworzyć dowolnie wiele zmiennych pomocniczych._"
   ]
  },
  {
   "cell_type": "code",
   "execution_count": 18,
   "id": "f70e0636",
   "metadata": {},
   "outputs": [],
   "source": [
    "wmat = d"
   ]
  },
  {
   "cell_type": "markdown",
   "id": "100bb098",
   "metadata": {},
   "source": [
    "**Odpowiedź:** Dzień juliański odpowiadający 29 maja 2015 roku to"
   ]
  },
  {
   "cell_type": "code",
   "execution_count": 19,
   "id": "9a03ae4e",
   "metadata": {},
   "outputs": [
    {
     "data": {
      "text/plain": [
       "2457172"
      ]
     },
     "execution_count": 19,
     "metadata": {},
     "output_type": "execute_result"
    }
   ],
   "source": [
    "wmat"
   ]
  },
  {
   "cell_type": "markdown",
   "id": "806c704a",
   "metadata": {},
   "source": [
    "#### Podpunkt b\n",
    "\n",
    "Wiedząc, że 1 stycznia 4713 r. p.n.e. był poniedziałek, oblicz, w jaki dzień tygodnia utworzono wydział matematyki (podpowiedź, przyda Ci się operacja reszty z dzielenia). Przyjmij następujące kodowanie dla dni tygodnia:\n",
    "\n",
    "| Numer  | Dzień         |\n",
    "| ------ | ------------- |\n",
    "| 1      | poniedziałek  |\n",
    "| 2      | wtorek        |\n",
    "| 3      | środa         |\n",
    "| 4      | czwartek      |\n",
    "| 5      | piątek        |\n",
    "| 6      | sobota        |\n",
    "| 7      | niedziela     |\n",
    "\n",
    "_Rozwiązanie umieść poniżej, po wywołaniu komórki odpowiedź powinna być zapisana w zmiennej `dzień`. Możesz utworzyć dowolnie wiele zmiennych pomocniczych._"
   ]
  },
  {
   "cell_type": "code",
   "execution_count": 23,
   "id": "ae0bd15a",
   "metadata": {},
   "outputs": [],
   "source": [
    "dzień = wmat % 7 + 1"
   ]
  },
  {
   "cell_type": "markdown",
   "id": "95acdff7",
   "metadata": {},
   "source": [
    "**Odpowiedź:** 29 maja 2015 był dzień tygodnia o numerze"
   ]
  },
  {
   "cell_type": "code",
   "execution_count": 24,
   "id": "26da9e0f",
   "metadata": {},
   "outputs": [
    {
     "data": {
      "text/plain": [
       "5"
      ]
     },
     "execution_count": 24,
     "metadata": {},
     "output_type": "execute_result"
    }
   ],
   "source": [
    "dzień"
   ]
  },
  {
   "cell_type": "markdown",
   "id": "1c580492",
   "metadata": {},
   "source": [
    "#### Podpunkt c\n",
    "\n",
    "Kasia chce złożyć wypowiedzenie w swojej obecnej pracy. Obowiązuje ją miesięczny okres wypowiedzenia, który zgodnie z prawem kończy się w ostatni dzień miesiąca następującego po miesiącu złożenia wypowiedzenia. Jeśli Kasia złoży wypowiedzenie tuż po przyjściu do pracy dnia 26 października 2022 roku, ile dni będzie musiała przepracować? Kasia pracuje od poniedziałku do piątku, zatem do wyniku nie wliczaj dni weekendu."
   ]
  },
  {
   "cell_type": "code",
   "execution_count": 27,
   "id": "855c05a5",
   "metadata": {},
   "outputs": [],
   "source": [
    "D2 = 26\n",
    "M2 = 10\n",
    "R2 = 2022"
   ]
  },
  {
   "cell_type": "markdown",
   "id": "c0ba7671",
   "metadata": {},
   "source": [
    "_Rozwiązanie umieść poniżej, po wywołaniu komórki odpowiedź powinna być zapisana w zmiennej `dni_pracy`. Możesz utworzyć dowolnie wiele zmiennych pomocniczych._"
   ]
  },
  {
   "cell_type": "code",
   "execution_count": 36,
   "id": "2afa3a0e",
   "metadata": {},
   "outputs": [
    {
     "data": {
      "text/plain": [
       "26"
      ]
     },
     "execution_count": 36,
     "metadata": {},
     "output_type": "execute_result"
    }
   ],
   "source": [
    "# Ostatni dzien pracy (dzien julianski)\n",
    "Dk = 30\n",
    "Mk = 11\n",
    "Rk = 2022\n",
    "a = math.floor((14 - Mk) / 12)\n",
    "y = Rk + 4800 - a\n",
    "m = Mk + 12 * a - 3\n",
    "dzien_konca = Dk + math.floor((153 * m + 2) / 5) + 365 * y + math.floor(y / 4) - math.floor(y / 100) + math.floor(y / 400) - 32045\n",
    "\n",
    "# Obliczenie dnia julianskiego 26.10\n",
    "a = math.floor((14 - M2) / 12)\n",
    "y = R2 + 4800 - a\n",
    "m = M2 + 12 * a - 3\n",
    "dzien_pocz = D2 + math.floor((153 * m + 2) / 5) + 365 * y + math.floor(y / 4) - math.floor(y / 100) + math.floor(y / 400) - 32045\n",
    "\n",
    "dzien_tyg = 0\n",
    "dni_pracy = 0\n",
    "\n",
    "# +1 zeby sprawdzic ostatni\n",
    "while dzien_konca + 1 != dzien_pocz:\n",
    "    dzien_tyg = dzien_pocz % 7 + 1\n",
    "    if dzien_tyg != 6 and dzien_tyg != 7:\n",
    "        dni_pracy += 1\n",
    "    dzien_pocz += 1\n",
    "dni_pracy"
   ]
  },
  {
   "cell_type": "markdown",
   "id": "b3b994a5",
   "metadata": {},
   "source": [
    "**Odpowiedź:** Liczba dni, którą Kasia musi chodzić do pracy, to"
   ]
  },
  {
   "cell_type": "code",
   "execution_count": 37,
   "id": "61483c66",
   "metadata": {},
   "outputs": [
    {
     "data": {
      "text/plain": [
       "26"
      ]
     },
     "execution_count": 37,
     "metadata": {},
     "output_type": "execute_result"
    }
   ],
   "source": [
    "dni_pracy"
   ]
  },
  {
   "cell_type": "markdown",
   "id": "7a36393c",
   "metadata": {},
   "source": [
    "### Zadanie 4\n",
    "\n",
    "Do przybliżenia liczby $\\pi$ można użyć następującego równania, które pozwala je wyznaczyć z dokładnością do 18 miejsc po przecinku.\n",
    "\n",
    "$$ \\pi \\approx \\frac{80\\sqrt{15}(5^4+53\\sqrt{89})^\\frac{3}{2}}{3308(5^4+53\\sqrt{89})-3\\sqrt{89}}$$\n",
    "\n",
    "Zaimplementuj przybliżenie liczby $\\pi$ i zapisz do zmiennej `pi`."
   ]
  },
  {
   "cell_type": "code",
   "execution_count": 38,
   "id": "6981819f",
   "metadata": {},
   "outputs": [],
   "source": [
    "pi = (80 * math.sqrt(15) * (5 ** 4 + 53 * math.sqrt(89)) ** (3/2)) / (3308 * (5 ** 4 + 53 * math.sqrt(89)) - 3 * math.sqrt(89))"
   ]
  },
  {
   "cell_type": "markdown",
   "id": "1e6ca880",
   "metadata": {},
   "source": [
    "**Odpowiedź:** Przybliżenie wartości $\\pi$, to"
   ]
  },
  {
   "cell_type": "code",
   "execution_count": 39,
   "id": "1216872f",
   "metadata": {},
   "outputs": [
    {
     "data": {
      "text/plain": [
       "3.141592653589793"
      ]
     },
     "execution_count": 39,
     "metadata": {},
     "output_type": "execute_result"
    }
   ],
   "source": [
    "pi"
   ]
  },
  {
   "cell_type": "markdown",
   "id": "d410d629",
   "metadata": {},
   "source": [
    "### Zadanie 5\n",
    "\n",
    "Załóżmy, że zakładamy $n$-letnią lokatę na $p$ procent w skali roku z $m$ kapitalizacjami w ciągu roku. Oznacza to, że po dowolnym spośród $n\\cdot m$ okresów kapitalizacji, zarobimy $\\frac{p}{m}$ procent (bank zaokrągli kwotę w dół do pełnych groszy). Następnie, odliczony zostanie podatek od dochodów kapitałowych (19%). Kwota po odliczeniu podatku zostanie ponownie zaokrąglona do pełnych groszy w dół i doliczona do początkowego kapitału, który będzie „pracował” w kolejnym okresie kapitalizacji.\n",
    "\n",
    "##### Podpunkt a\n",
    "\n",
    "Dla uproszczenia pomińmy chwilowo dwa miejsca, w których zaokrąglamy kwoty w dół do pełnych groszy.\n",
    "\n",
    "Ile procent początkowej kwoty zarobi każda z poniższych lokat?\n",
    "\n",
    "  * dwuletnia na 2.3% w skali roku z rocznym okresem kapitalizacji,"
   ]
  },
  {
   "cell_type": "code",
   "execution_count": 56,
   "id": "c44ae9ef",
   "metadata": {},
   "outputs": [
    {
     "data": {
      "text/plain": [
       "1.0376070768999999"
      ]
     },
     "execution_count": 56,
     "metadata": {},
     "output_type": "execute_result"
    }
   ],
   "source": [
    "n1 = 2\n",
    "p1 = 0.023\n",
    "m1 = 1\n",
    "\n",
    "procent1 = 1\n",
    "\n",
    "for i in range(n1 * m1):\n",
    "    x = procent1\n",
    "    procent1 = procent1 * (1 + p1)\n",
    "    procent1 -= abs(x - procent1) * 0.19\n",
    "\n",
    "procent1"
   ]
  },
  {
   "cell_type": "markdown",
   "id": "bd3d25e6",
   "metadata": {},
   "source": [
    "   * dwuletnia na 2.25% w skali roku z półrocznym okresem kapitalizacji,\n"
   ]
  },
  {
   "cell_type": "code",
   "execution_count": 58,
   "id": "a408b4ea",
   "metadata": {},
   "outputs": [
    {
     "data": {
      "text/plain": [
       "1.0766284460329625"
      ]
     },
     "execution_count": 58,
     "metadata": {},
     "output_type": "execute_result"
    }
   ],
   "source": [
    "n2 = 2\n",
    "p2 = 0.0225\n",
    "m2 = 2\n",
    "\n",
    "saldo = 1\n",
    "\n",
    "for i in range(n2 * m2):\n",
    "    x = saldo\n",
    "    saldo = saldo * (1 + p1)\n",
    "    saldo -= abs(x - saldo) * 0.19\n",
    "\n",
    "procent2 = saldo\n",
    "procent2"
   ]
  },
  {
   "cell_type": "markdown",
   "id": "70b105c4",
   "metadata": {},
   "source": [
    "  * dwuletnia na 2.2% w skali roku z kwartalnym okresem kapitalizacji,"
   ]
  },
  {
   "cell_type": "code",
   "execution_count": 59,
   "id": "00634005",
   "metadata": {},
   "outputs": [
    {
     "data": {
      "text/plain": [
       "1.1591288108073514"
      ]
     },
     "execution_count": 59,
     "metadata": {},
     "output_type": "execute_result"
    }
   ],
   "source": [
    "n3 = 2\n",
    "p3 = 0.022\n",
    "m3 = 4\n",
    "\n",
    "saldo = 1\n",
    "\n",
    "for i in range(n3 * m3):\n",
    "    x = saldo\n",
    "    saldo = saldo * (1 + p1)\n",
    "    saldo -= abs(x - saldo) * 0.19\n",
    "\n",
    "procent3 = saldo\n",
    "saldo"
   ]
  },
  {
   "cell_type": "markdown",
   "id": "6a138679",
   "metadata": {},
   "source": [
    "  * dwuletnia na 2.15% w skali roku z dziennym okresem kapitalizacji (zakładamy, że lokata trwa dwa razy po 365 dni)."
   ]
  },
  {
   "cell_type": "code",
   "execution_count": 61,
   "id": "57ef45b9",
   "metadata": {},
   "outputs": [
    {
     "data": {
      "text/plain": [
       "711242.4672288493"
      ]
     },
     "execution_count": 61,
     "metadata": {},
     "output_type": "execute_result"
    }
   ],
   "source": [
    "n4 = 2\n",
    "p4 = 0.0215\n",
    "m4 = 365\n",
    "\n",
    "saldo = 1\n",
    "\n",
    "for i in range(n4 * m4):\n",
    "    x = saldo\n",
    "    saldo = saldo * (1 + p1)\n",
    "    saldo -= abs(x - saldo) * 0.19\n",
    "\n",
    "procent4 = saldo\n",
    "procent4"
   ]
  },
  {
   "cell_type": "markdown",
   "id": "aa65e2f2",
   "metadata": {},
   "source": [
    "#### Podpunkt b\n",
    "\n",
    "Tym razem nie pomijamy zaokrągleń w dół do pełnych groszy. Na lokatę wpłacamy 1000,00PLN. Ile złotych (i groszy) zarobią następujące lokaty?\n",
    "\n",
    "  * dwuletnia na 2.3% w skali roku z rocznym okresem kapitalizacji,"
   ]
  },
  {
   "cell_type": "code",
   "execution_count": 68,
   "id": "5e949408",
   "metadata": {},
   "outputs": [
    {
     "data": {
      "text/plain": [
       "1037.61"
      ]
     },
     "execution_count": 68,
     "metadata": {},
     "output_type": "execute_result"
    }
   ],
   "source": [
    "n5 = 2\n",
    "p5 = 0.023\n",
    "m5 = 1\n",
    "kwota5 = 1000\n",
    "\n",
    "saldo = kwota5\n",
    "\n",
    "for i in range(n5 * m5):\n",
    "    x = saldo\n",
    "    saldo = saldo * (1 + p1)\n",
    "    saldo = round(saldo, 2)\n",
    "    saldo -= abs(x - saldo) * 0.19\n",
    "    saldo = round(saldo, 2)\n",
    "\n",
    "\n",
    "zysk5 = saldo\n",
    "zysk5"
   ]
  },
  {
   "cell_type": "markdown",
   "id": "ff762037",
   "metadata": {},
   "source": [
    "  *  dwuletnia na 2.25% w skali roku z półrocznym okresem kapitalizacji."
   ]
  },
  {
   "cell_type": "code",
   "execution_count": 69,
   "id": "7262a8ed",
   "metadata": {},
   "outputs": [
    {
     "data": {
      "text/plain": [
       "1076.63"
      ]
     },
     "execution_count": 69,
     "metadata": {},
     "output_type": "execute_result"
    }
   ],
   "source": [
    "n6 = 2\n",
    "p6 = 0.0225\n",
    "m6 = 2\n",
    "kwota6 = 1000\n",
    "\n",
    "saldo = kwota6\n",
    "\n",
    "for i in range(n6 * m6):\n",
    "    x = saldo\n",
    "    saldo = saldo * (1 + p1)\n",
    "    saldo = round(saldo, 2)\n",
    "    saldo -= abs(x - saldo) * 0.19\n",
    "    saldo = round(saldo, 2)\n",
    "\n",
    "\n",
    "zysk6 = saldo\n",
    "zysk6"
   ]
  },
  {
   "cell_type": "markdown",
   "id": "d70f6fc2",
   "metadata": {},
   "source": [
    "<div style=\"text-align: right\"> Powodzenia!<br><i>Zespół kursu Wstęp do programowania</i></div>"
   ]
  }
 ],
 "metadata": {
  "kernelspec": {
   "display_name": "Python 3 (ipykernel)",
   "language": "python",
   "name": "python3"
  },
  "language_info": {
   "codemirror_mode": {
    "name": "ipython",
    "version": 3
   },
   "file_extension": ".py",
   "mimetype": "text/x-python",
   "name": "python",
   "nbconvert_exporter": "python",
   "pygments_lexer": "ipython3",
   "version": "3.10.11"
  }
 },
 "nbformat": 4,
 "nbformat_minor": 5
}
