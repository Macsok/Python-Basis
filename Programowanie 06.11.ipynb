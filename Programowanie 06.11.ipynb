{
 "cells": [
  {
   "cell_type": "code",
   "execution_count": 15,
   "metadata": {},
   "outputs": [
    {
     "name": "stdout",
     "output_type": "stream",
     "text": [
      "None\n"
     ]
    }
   ],
   "source": [
    "# Zadanie 4\n",
    "def iloczyn(*args):\n",
    "    odp = 1\n",
    "    i = 0\n",
    "    for i in args:\n",
    "        odp *= i\n",
    "    if i == 0:\n",
    "        return None\n",
    "    return odp\n",
    "    \n",
    "print(iloczyn())"
   ]
  },
  {
   "cell_type": "code",
   "execution_count": 48,
   "metadata": {},
   "outputs": [
    {
     "data": {
      "text/plain": [
       "'a'"
      ]
     },
     "execution_count": 48,
     "metadata": {},
     "output_type": "execute_result"
    }
   ],
   "source": [
    "# Zadanie 7\n",
    "napis = \"Ala Ma Kotakkk\"\n",
    "\n",
    "def zlicz_litery(napis):\n",
    "    napis = napis.lower()\n",
    "    slownik = {}\n",
    "    for i in napis:\n",
    "        if i == ' ': continue\n",
    "        slownik.update({i: napis.count(i)})\n",
    "    return slownik\n",
    "\n",
    "dict = zlicz_litery(napis)\n",
    "\n",
    "# znajdujemy maks (key - element do porownania)\n",
    "maks = max(dict, key=dict.get)\n",
    "maks"
   ]
  },
  {
   "cell_type": "code",
   "execution_count": 79,
   "metadata": {},
   "outputs": [
    {
     "data": {
      "text/plain": [
       "[(10, 21, 22), (21, 22, 50), (22, 50, 70), (50, 70, 151), (70, 151, 198)]"
      ]
     },
     "execution_count": 79,
     "metadata": {},
     "output_type": "execute_result"
    }
   ],
   "source": [
    "# Zadanie 5\n",
    "#lista_trojkatow = [10, 21, 22, 50, 70, 151, 198]\n",
    "\n",
    "# zrobic za pomoca list skladanych\n",
    "def znajdz_trojkaty(lista_trojkatow):\n",
    "    lista_trojkatow.sort()\n",
    "    odp = []\n",
    "    for i in range(len(lista_trojkatow) - 2):\n",
    "        a = lista_trojkatow[i]\n",
    "        b = lista_trojkatow[i + 1]\n",
    "        c = lista_trojkatow[i + 2]\n",
    "        if a + b > c or b + c > a or c + a > b:\n",
    "            odp.append((a, b, c))\n",
    "    return odp\n",
    "\n",
    "znajdz_trojkaty([10, 21, 22, 50, 151, 70, 198])"
   ]
  },
  {
   "cell_type": "markdown",
   "metadata": {},
   "source": [
    "8. Stwórz funkcję zamiana(liczba, n), którą będzie zamieniała podana liczbę w systemie 10 na \n",
    "liczbę w systemie o podstawie n - możesz założyć, że 2 ≤ 𝑛 ≤ 8. Parametr n powinien być \n",
    "opcjonalny z domyślną wartością równą 2. Zamieniona liczba powinna być w formie napisu (str). \n",
    "Sprawdź działanie Twojej funkcji z funkcjami bin() i oct().\n"
   ]
  },
  {
   "cell_type": "code",
   "execution_count": 96,
   "metadata": {},
   "outputs": [
    {
     "data": {
      "text/plain": [
       "'22'"
      ]
     },
     "execution_count": 96,
     "metadata": {},
     "output_type": "execute_result"
    }
   ],
   "source": [
    "# Zadanie 8\n",
    "\n",
    "def zmienna(liczba, n = 2):\n",
    "    liczba = int(liczba)\n",
    "    odp = \"\"\n",
    "    while (liczba):\n",
    "        odp += str(liczba % n)\n",
    "        liczba = liczba // n\n",
    "    return odp[::-1]\n",
    "\n",
    "zmienna(8, 3)"
   ]
  }
 ],
 "metadata": {
  "kernelspec": {
   "display_name": "Python 3",
   "language": "python",
   "name": "python3"
  },
  "language_info": {
   "codemirror_mode": {
    "name": "ipython",
    "version": 3
   },
   "file_extension": ".py",
   "mimetype": "text/x-python",
   "name": "python",
   "nbconvert_exporter": "python",
   "pygments_lexer": "ipython3",
   "version": "3.10.11"
  }
 },
 "nbformat": 4,
 "nbformat_minor": 2
}
