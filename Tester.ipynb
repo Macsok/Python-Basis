{
 "cells": [
  {
   "cell_type": "code",
   "execution_count": 1,
   "metadata": {},
   "outputs": [],
   "source": [
    "import sympy\n",
    "from sympy import sin, cos, tan, exp, log, integrate, atan\n",
    "from sympy.integrals.manualintegrate import manualintegrate\n",
    "from sympy.abc import x, y\n",
    "from sympy.integrals.manualintegrate import integral_steps\n",
    "from sympy import print_latex\n",
    "from sympy import init_printing\n",
    "\n",
    "x = sympy.symbols('x')\n",
    "expr = sympy.sqrt(3) * x**3\n",
    "\n"
   ]
  },
  {
   "cell_type": "code",
   "execution_count": 74,
   "metadata": {},
   "outputs": [],
   "source": [
    "import re"
   ]
  },
  {
   "cell_type": "code",
   "execution_count": 111,
   "metadata": {},
   "outputs": [
    {
     "name": "stdout",
     "output_type": "stream",
     "text": [
      "('Parts', '(integrand=atan(x), variable=x, u=atan(x), dv=1,') \n",
      "\n",
      "('v_step=Constant', '(integrand=1, variable=x),') \n",
      "\n",
      "('second_step=ConstantTimes', '(integrand=x/(x**2 + 1), variable=x, constant=1/2, other=2*x/(x**2 + 1),') \n",
      "\n",
      "('substep=U', '(integrand=x/(x**2 + 1), variable=x, u_var=_u, u_func=x**2 + 1,') \n",
      "\n",
      "('substep=Reciprocal', '(integrand=1/_u, variable=_u, base=_u)))') \n",
      "\n",
      "['atan(x)', '1', 'x/(x**2 + 1)']\n"
     ]
    }
   ],
   "source": [
    "funkcja = x**2 - x + sympy.exp(-x) + 1\n",
    "funkcja = sympy.atan(x)\n",
    "#---------------------------------------\n",
    "calka = sympy.integrate(funkcja, x)\n",
    "\n",
    "kroki = integral_steps(funkcja, x)\n",
    "\n",
    "#print(str(kroki), '\\n')\n",
    "\n",
    "kroki = str(kroki)\n",
    "\n",
    "#oddzielamy pierwszy segment do momentu napotkania 'Rule'\n",
    "steps = re.split('Rule', kroki)\n",
    "\n",
    "#utworzenie tablic keys, values\n",
    "keys = []\n",
    "#zebranie nazw krokow, od 0 do n-1\n",
    "for el in range(0, len(steps) - 1):\n",
    "    keys.append(steps[el][steps[el].rfind(' ') + 1:])\n",
    "\n",
    "#zebranie tresci krokow, od 1 do n-1\n",
    "values = []\n",
    "for el in range(1, len(steps) - 1):\n",
    "    values.append(steps[el][:steps[el].rfind(' ')])\n",
    "#ostatni krok w calosci\n",
    "values.append(steps[-1][:steps[-1].rfind(')')])\n",
    "\n",
    "steps = tuple((k, v) for (k, v) in zip(keys, values))\n",
    "\n",
    "for step in steps:\n",
    "    print(step, '\\n')\n",
    "\n",
    "#----------------------------\n",
    "#     integrand - funkcja podcalkowa\n",
    "    \n",
    "\n",
    "#wybierzmy tylko 'substep=' dla uproszczenia\n",
    "\n",
    "short = []\n",
    "#print(steps)\n",
    "\n",
    "for el in steps:\n",
    "    #jesli jest to substep to:\n",
    "    if el[0].find('substep='):\n",
    "        #Wycinamy interesujacy nas fragment\n",
    "        short.append(el[1][el[1].find('integrand=') + 10 : el[1].find(',')])\n",
    "\n",
    "print(short)"
   ]
  },
  {
   "cell_type": "code",
   "execution_count": null,
   "metadata": {},
   "outputs": [],
   "source": []
  }
 ],
 "metadata": {
  "kernelspec": {
   "display_name": "Python 3",
   "language": "python",
   "name": "python3"
  },
  "language_info": {
   "codemirror_mode": {
    "name": "ipython",
    "version": 3
   },
   "file_extension": ".py",
   "mimetype": "text/x-python",
   "name": "python",
   "nbconvert_exporter": "python",
   "pygments_lexer": "ipython3",
   "version": "3.10.11"
  }
 },
 "nbformat": 4,
 "nbformat_minor": 2
}
