{
 "cells": [
  {
   "cell_type": "markdown",
   "metadata": {},
   "source": [
    "#### $\\color{gray}{\\text{Autor: Maciej S.}}$"
   ]
  },
  {
   "cell_type": "markdown",
   "metadata": {},
   "source": [
    "# $\\textcolor{teal}{\\textbf{Schemat Bernoulliego}}$\n",
    "$\\textcolor{teal}{\\textbf{Próbą Bernoulliego}}$ nazywamy doświadczenie, w którym otrzymujemy jeden z dwóch możliwych wyników. Jeden z tych wyników nazywamy $\\textcolor{olive}{\\text{sukcesem}}$, a drugi $\\textcolor{olive}{\\text{porażką}}$. Jeżeli prawdopodobieństwo sukcesu wynosi $\\textcolor{olive}{p}$, to prawdopodobieństwo porażki $\\textcolor{olive}{q = 1 - p}$.\n",
    "$\\newline$\n",
    "$\\textcolor{teal}{\\textbf{Schematem Bernoulliego}}$ nazywamy ciąg niezależnych powtórzeń prób Bernoulliego.\n",
    "$\\newline$\n",
    "W $\\textcolor{teal}{\\textbf{schemacie Bernoulliego}}$ prawdopodobieństwo uzyskania $\\textcolor{olive}{\\text{k}}$ sukcesów w $\\textcolor{olive}{\\text{n}}$ próbach mozna obliczyć ze wzoru:\n",
    "$\\newline$\n",
    "$$ \\Large {P_n(k) = \\binom{n}{k} \\cdot p^k \\cdot q^{n-k}} $$\n",
    "$\\newline$\n",
    "### Przykład: \n",
    "$\\newline$ Rzucamy sześcienną kostką do gry 4 razy. Jakie jest pradopodobieństwo, że pięć oczek wypadnie dokładnie dwa razy?\n",
    "######\n",
    "Liczba prób: $\\textcolor{olive}{n = 4}$ $\\newline$ Liczba oczekiwanych sukcesów: $\\textcolor{olive}{k = 2}$ $\\newline$ Prawdopodobieńswto, że wypdanie pięć oczek w pojedynczym rzucie: $ \\textcolor{olive}{{p = \\frac{1}{6}}}$ $\\newline$ Prawdopodobieńswto, że wypadnie wypadnie inna liczba oczek: $\\textcolor{olive}{q = p - 1 = \\frac{5}{6}}$ \n",
    "#\n",
    "$$ P_4(2) = \\binom{4}{2} \\cdot \\left( \\frac{1}{6} \\right) ^{2} \\cdot \\left( \\frac{5}{6} \\right)^{4-2} = \\frac{4!}{(4-2)! \\cdot 2!} \\cdot \\frac{1}{36} \\cdot \\frac{25}{36} = \\frac{24}{2 \\cdot 2} \\cdot \\frac{1}{36} \\cdot \\frac{25}{36} = \\frac{600}{5184} = \\frac{25}{216} \\approx 0.115740741 $$\n",
    "##### Poniżej możesz sprawdzić prawdopodobieństwo wypadnięcia konkretnej liczby oczek, kokretną liczbę razy, dla danej liczby prób."
   ]
  },
  {
   "cell_type": "code",
   "execution_count": 2,
   "metadata": {},
   "outputs": [
    {
     "name": "stdout",
     "output_type": "stream",
     "text": [
      "Prawdopodobieństwo tego zdarzenia to  25/216  co w przybliżeniu jest równe:  0.11574074074074074 .\n"
     ]
    }
   ],
   "source": [
    "from fractions import Fraction\n",
    "import math\n",
    "n = int(input(\"Ile razy chcesz rzucić: \"))\n",
    "k = int(input(\"Ile razy ma wypaść twoja liczba: \"))\n",
    "p = Fraction(1, 6)\n",
    "q = Fraction(5, 6)\n",
    "x = Fraction(math.factorial(n), math.factorial(n - k) * math.factorial(k))\n",
    "odp_frac = Fraction(x * p**k * q**(n-k), 1)\n",
    "print(\"Prawdopodobieństwo tego zdarzenia to \", odp_frac, \" co w przybliżeniu jest równe: \", float(odp_frac), \".\")"
   ]
  },
  {
   "cell_type": "markdown",
   "metadata": {},
   "source": [
    "# $\\textcolor{teal}{\\textbf{Rozkład Poissona}}$\n",
    "Niech zmienna losowa $ \\color{olive}X_n $ ma rozkład Bernoulliego określony wzorem:\n",
    "$$ \\large {P(X_n = k) = \\binom{n}{k} \\cdot p^k \\cdot q^{n-k}}, \\quad k = 0, 1, 2, ..., n $$\n",
    "Załóżmy, że liczba $\\color{olive}{n}$ dąży do nieskończoności i iloczyn $\\color{olive}{n \\cdot p}$ jest stały, tzn. $\\color{olive}{n \\cdot p = \\lambda}$, $\\color{olive}{\\lambda}$ - stała dodatnia. Tak określona nowa zmienna losowa $\\color{olive}{X}$ może przyjąć każdą wartość całkowitą z pradziału $\\color{olive}{ \\langle 0, \\infty \\rangle }$. Prawdopodobieństwo przyjęcia przez tę zmienną wartości $\\color{olive}{k}$ wyraża się $\\color{teal}{\\text{wzorem Poissona}}$, tj.\n",
    "$$ \\large P(X = k) = \\lim_{x\\to\\infty}P(X_n = k) = \\frac{e^{-\\lambda} \\cdot \\lambda ^k}{k!}, \\quad k = 0, 1, 2, ...  $$\n",
    "### $\\textbf{Definicja}$\n",
    "Zmienna losowa $ X $ ma $\\color{teal}{\\text{rozkład Poissona}}$ z parametrem $\\color{olive}{\\lambda = n \\cdot p} $, jesli jej funkcja prawdopodobieństwa dana jest wzorem:\n",
    "$$ \\large P(X = k) = \\frac{e^{-\\lambda} \\cdot \\lambda ^k}{k!}, \\quad \\lambda > 0, \\quad k = 0, 1, 2, ...  $$\n",
    "Mówimy, że $\\color{teal}{\\text{rozkład Poissona}}$ jest rozkładem granicznym $ \\color{teal}{\\text{rozkładu Bernoulliego}} $ przy podanych warunkach lub że $ \\color{teal}{\\text{rozkład Bernoulliego}} $ jest zbieżny do $ \\color{teal}{\\text{rozkładu Poissona}} $. $\\newline$\n",
    "##### Poniżej program porównujący pradopodobieństwa obliczone dwiema metodami."
   ]
  },
  {
   "cell_type": "code",
   "execution_count": 23,
   "metadata": {},
   "outputs": [
    {
     "name": "stdout",
     "output_type": "stream",
     "text": [
      "Prawdopodobieństwo tego zdarzenia wyliczone za pomocą schematu Bernoulliego w przybliżeniu jest równe: 0.0892828157326504 .\n",
      "Prawdopodobieństwo tego zdarzenia wyliczone za pomocą rozkładu Poissona w przybliżeniu jest równe: 0.0888353173920853 .\n",
      "Różnica pomiędzy prawdopodobieństwami to:  0.00044749834056509945\n"
     ]
    }
   ],
   "source": [
    "n = int(input(\"Liczba prób: \"))\n",
    "k = int(input(\"Liczba sukcesów: \"))\n",
    "s = int(input(\"Liczba możliwych wyborów (zakładamy, że sukces można osiągnąć w jeden sposób): \"))\n",
    "p = Fraction(1, s)\n",
    "q = Fraction(s - 1, s)\n",
    "x = Fraction(math.factorial(n), math.factorial(n - k) * math.factorial(k))\n",
    "odp_frac_bernoullie = Fraction(x * p**k * q**(n-k), 1)\n",
    "odp_frac_poisson = Fraction(int(math.e**(-n*p) * (n*p)**k), math.factorial(k))\n",
    "print(\"Prawdopodobieństwo tego zdarzenia wyliczone za pomocą schematu Bernoulliego w przybliżeniu jest równe:\", float(odp_frac_bernoullie), \".\")\n",
    "print(\"Prawdopodobieństwo tego zdarzenia wyliczone za pomocą rozkładu Poissona w przybliżeniu jest równe:\", float(odp_frac_poisson), \".\")\n",
    "print(\"Różnica pomiędzy prawdopodobieństwami to: \", float(odp_frac_bernoullie - odp_frac_poisson))"
   ]
  },
  {
   "cell_type": "markdown",
   "metadata": {},
   "source": [
    "### $\\color{teal}{\\textbf{Porównanie wyników}}$\n",
    "Tabela porównująca prawdopodobieństwa dla zajścia $\\color{olive}{\\text{k}}$ sukcesów po $\\color{olive}{\\text{n}}$ próbach, gdzie pradopodobieństwo pojedynczego zdarzenia jest równe $\\color{olive}{\\text{p}}$. Dokładne, wyliczone $\\color{teal}{\\text{schematem Bernoulliego}}$, i przybliżone - wyliczone $\\color{teal}{\\text{rozkładem Poissona}}$.\n",
    "##### Wyniki dla $\\color{olive}{k = n \\cdot p}$ :\n",
    "| | wartość | $\\color{olive}{\\bf{n = 100}}$ | $\\color{olive}{\\bf{n = 200}}$ | $\\color{olive}{\\bf{n = 500}}$ | $\\color{olive}{\\bf{n = 1000}}$ | $\\color{olive}{\\bf{n = 2000}}$ |\n",
    "| - | - | - | - | - | - | - |\n",
    "| $\\color{olive}{\\bf{p = \\frac{1}{20}}}$ | dokładna | 0.180 | 0.12836 | 0.08159 | 0.05779 | 0.04090 |\n",
    "| $\\color{olive}{\\bf{p = \\frac{1}{20}}}$ | przybliżona | 0.175 | 0.12511 | 0.07952 | 0.05633 | 0.03986|\n",
    "| | $\\textbf{różnica}$ | 0.005 | 0.00324 | 0.00207 | 0.00146 | 0.00103 |\n",
    "| $\\color{olive}{\\bf{p = \\frac{1}{50}}}$ | dokładna | 0.27341 | 0.19735 | 0.12638 | 0.08974 | 0.06359 |\n",
    "| $\\color{olive}{\\bf{p = \\frac{1}{50}}}$ | przybliżona | 0.0 | 0.16667 | 0.12511 | 0.08884 | 0.06295 |\n",
    "| | $\\textbf{różnica}$ | 0.27341 | 0.03068 | 0.00127 | 0.00090 | 0.00064 |\n",
    "| $\\color{olive}{\\bf{p = \\frac{1}{100}}}$ | dokładna | 0.36973 | 0.27203 | 0.17635 | 0.12574 | 0.08928 |\n",
    "| $\\color{olive}{\\bf{p = \\frac{1}{100}}}$ | przybliżona | 0.0 | 0.0 | 0.17500 | 0.12511 | 0.08884 |\n",
    "| | $\\textbf{różnica}$ | 0.36972 | 0.27203 | 0.00135 | 0.00063 | 0.00045 |\n",
    "#### $\\textbf{Wnioski:}$\n",
    "Wraz ze wzrostem liczby $\\textcolor{olive}{\\text{prób}}$ oraz zmniejszaniem się prawdopodobieństwa pojedynczego $\\textcolor{olive}{\\text{zdarzenia}}$, $\\textcolor{teal}{\\text{schemat Poissona zbiega do schematu Bernoulliego}}$. "
   ]
  }
 ],
 "metadata": {
  "kernelspec": {
   "display_name": "Python 3",
   "language": "python",
   "name": "python3"
  },
  "language_info": {
   "codemirror_mode": {
    "name": "ipython",
    "version": 3
   },
   "file_extension": ".py",
   "mimetype": "text/x-python",
   "name": "python",
   "nbconvert_exporter": "python",
   "pygments_lexer": "ipython3",
   "version": "3.10.11"
  }
 },
 "nbformat": 4,
 "nbformat_minor": 2
}
