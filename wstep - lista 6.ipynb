{
 "cells": [
  {
   "cell_type": "markdown",
   "id": "817cd8f2",
   "metadata": {},
   "source": [
    "# Wstęp do programowania\n",
    "## Lista 6\n",
    "\n",
    "Uzupełnij swoje dane poniżej, następnie przeczytaj treść zadań i umieść rozwiązania w odpowidenich komórkach pozostawionych w tym celu pod treścią. Pamiętaj dbać o specyfikację, czyli nazwy zmiennych oraz odpowiednie rozmieszczenie komórek. Jeśli uruchomisz wszystkie komórki, dokument powinien działać bez błędów."
   ]
  },
  {
   "cell_type": "markdown",
   "id": "76926f19",
   "metadata": {},
   "source": [
    "  * **Imię:** Maciej\n",
    "  * **Nazwisko:** S\n",
    "  * **Numer indeksu:** ..."
   ]
  },
  {
   "cell_type": "markdown",
   "id": "f179d9a1",
   "metadata": {},
   "source": [
    "W rozwiązaniach zadań możesz korzystać z wielu bibliotek. Do obliczeń `math`, `numpy` oraz `sympy`. Do wizualizacji `matplotlib.pyplot` oraz `ipywidgets`. Testy możesz wykonywać za pomocą modułów `unittest` oraz `doctest`."
   ]
  },
  {
   "cell_type": "code",
   "execution_count": 50,
   "id": "2ceefa09",
   "metadata": {},
   "outputs": [],
   "source": [
    "import math\n",
    "import unittest\n",
    "import doctest\n",
    "import numpy as np\n",
    "import sympy\n",
    "import matplotlib.pyplot as plt\n",
    "from ipywidgets import interact\n",
    "from hypothesis import given, strategies as st"
   ]
  },
  {
   "cell_type": "markdown",
   "id": "1a39d3f3",
   "metadata": {},
   "source": [
    "### Zadanie 1\n",
    "\n",
    "Przypomnij sobie zadanie o spirali archimedejskiej (zadanie 2 z listy 5).\n",
    "\n",
    "Spróbuj stworzyć interaktywny interfejs do wizualizacji tego, jak wybrane parametry wpływają na kształt spirali.\n",
    "\n",
    "Rozwiązanie umieść w komórce poniżej."
   ]
  },
  {
   "cell_type": "code",
   "execution_count": 5,
   "id": "4076f649",
   "metadata": {},
   "outputs": [
    {
     "data": {
      "application/vnd.jupyter.widget-view+json": {
       "model_id": "6a83da0127234353815bf6b3ac6e99e1",
       "version_major": 2,
       "version_minor": 0
      },
      "text/plain": [
       "interactive(children=(IntSlider(value=10, description='length', max=20, min=2), FloatSlider(value=1.0, descrip…"
      ]
     },
     "metadata": {},
     "output_type": "display_data"
    }
   ],
   "source": [
    "@interact(length=(2, 20), alpha=(0.5, 10.0), numb=(0.5, 10.0))\n",
    "def func(length = 10, alpha = 1, numb = 1):\n",
    "    theta = np.linspace(0, length*math.pi, 1000)\n",
    "    r = alpha * theta**(1/numb)\n",
    "    wykres = plt.subplot(111, projection='polar')\n",
    "    wykres.plot(theta, r, color='teal', linewidth=3)\n",
    "    plt.show()"
   ]
  },
  {
   "cell_type": "markdown",
   "id": "c9490bc8",
   "metadata": {},
   "source": [
    "### Zadanie 2\n",
    "\n",
    "Zaprojektuj testy jednostkowe sprawdzające, że funkcja `max` z Pythona działa dobrze dla list liczb całkowitych i zmiennoprzecinkowych bez `NaN`. Napisz przynajmniej 3 testy za pomocą modułu `unittest`. Kod testów umieść w komórce poniżej."
   ]
  },
  {
   "cell_type": "code",
   "execution_count": 19,
   "id": "eb82466d-97e1-4703-b86a-9c6d56f88988",
   "metadata": {},
   "outputs": [],
   "source": [
    "@unittest.FunctionTestCase\n",
    "def test_int():\n",
    "    assert max([10, 20, 10]) == 20, 'Int nie dzialaja'\n",
    "\n",
    "@unittest.FunctionTestCase\n",
    "def test_float():\n",
    "    assert max([10.0, 20.0, 10.0]) == 20.0, 'Float nie dzialaja'\n",
    "\n",
    "@unittest.FunctionTestCase\n",
    "def test_IntAndFloat():\n",
    "    assert max([10, 20.0, 10.0]) == 20.0, '[float, int] nie dzialaja'\n",
    "\n",
    "@unittest.FunctionTestCase\n",
    "def test_NaN():\n",
    "    assert max([10.0, 20.0, 10.0, 'trzy']) == 20.0, '[..., NaN] nie dzialaja'"
   ]
  },
  {
   "cell_type": "markdown",
   "id": "0793e0ae-cd83-44d6-bc01-72da6dbcd0ce",
   "metadata": {},
   "source": [
    "Uruchomienie testów umieść w komórce poniżej."
   ]
  },
  {
   "cell_type": "code",
   "execution_count": 21,
   "id": "4e8cd72f-46e7-4508-92d2-c0ddd03fef5e",
   "metadata": {},
   "outputs": [
    {
     "name": "stderr",
     "output_type": "stream",
     "text": [
      "...E\n",
      "======================================================================\n",
      "ERROR: unittest.case.FunctionTestCase (test_NaN)\n",
      "----------------------------------------------------------------------\n",
      "Traceback (most recent call last):\n",
      "  File \"C:\\Users\\01sok\\AppData\\Local\\Temp\\ipykernel_9764\\3695583280.py\", line 15, in test_NaN\n",
      "    assert max([10.0, 20.0, 10.0, 'trzy']) == 20.0, '[..., NaN] nie dzialaja'\n",
      "TypeError: '>' not supported between instances of 'str' and 'float'\n",
      "\n",
      "----------------------------------------------------------------------\n",
      "Ran 4 tests in 0.004s\n",
      "\n",
      "FAILED (errors=1)\n"
     ]
    }
   ],
   "source": [
    "suite = unittest.TestSuite()\n",
    "#   Dodajemy testy:\n",
    "suite.addTest(test_int)\n",
    "suite.addTest(test_float)\n",
    "suite.addTest(test_IntAndFloat)\n",
    "suite.addTest(test_NaN)\n",
    "assert unittest.TextTestRunner().run(suite)"
   ]
  },
  {
   "attachments": {},
   "cell_type": "markdown",
   "id": "3c1b52a8",
   "metadata": {},
   "source": [
    "### Zadanie 3\n",
    "\n",
    "Przypomnij sobie zadanie o funkcjach do liczenia liczby dni pomiędzy datami (zadanie 1 lista 4). Rozbuduj funkcje `ile_dni` oraz `dzień_juliański` tak, aby zgłaszały odpowiednie wyjątki, gdy użytkownik ich źle użyje.\n",
    "\n",
    "Kod umieść w komórce poniżej."
   ]
  },
  {
   "cell_type": "code",
   "execution_count": 41,
   "id": "f4281b8c",
   "metadata": {},
   "outputs": [
    {
     "data": {
      "text/plain": [
       "8"
      ]
     },
     "execution_count": 41,
     "metadata": {},
     "output_type": "execute_result"
    }
   ],
   "source": [
    "def dzien_julianski(D, M, R):\n",
    "    #   Sprawdzenie poprawności danych:\n",
    "    assert str(D).isdigit(), 'arg: D is not a number'\n",
    "    assert str(M).isdigit(), 'arg: M is not a number'\n",
    "    assert str(R).isdigit(), 'arg: R is not a number'\n",
    "\n",
    "    D1 = int(D)\n",
    "    M1 = int(M)\n",
    "    R1 = int(R)\n",
    "\n",
    "    assert 0 < D1 < 32, 'Invalid arg: D'\n",
    "    assert 0 < M1 < 13, 'Invalid arg: M'\n",
    "    assert R1 > 0, 'Invalid arg: R'\n",
    "\n",
    "    #slownik = {'1' : 'poniedziałek', '2' : 'wtorek', '3' : 'środa', '4' : 'czwartek', '5' : 'piątek', '6' : 'sobota', '7' : 'niedziela'}\n",
    "\n",
    "    a = math.floor((14 - M1) / 12)\n",
    "    y = R1 + 4800 - a\n",
    "    m = M1 + 12 * a - 3\n",
    "    dzien_j = D1 + math.floor((153 * m + 2) / 5) + 365 * y + math.floor(y / 4) - math.floor(y / 100) + math.floor(y / 400) - 32045\n",
    "    dzien_tyg = dzien_j % 7 + 1\n",
    "\n",
    "    #return slownik[str(dzien_tyg)]\n",
    "    return dzien_j\n",
    "\n",
    "def ile_dni(data1, data2):\n",
    "    #Data=(dd, mm, rrrr)\n",
    "    for arg in [data1, data2]:\n",
    "        assert str(arg[0]).isdigit(), 'arg: D is not a number'\n",
    "        assert str(arg[1]).isdigit(), 'arg: M is not a number'\n",
    "        assert str(arg[2]).isdigit(), 'arg: R is not a number'\n",
    "        assert 0 < int(arg[0]) < 32, 'Invalid arg: D'\n",
    "        assert 0 < int(arg[1]) < 13, 'Invalid arg: M'\n",
    "        assert int(arg[2]) > 0, 'Invalid arg: R'\n",
    "    return abs(dzien_julianski(data1[0], data1[1], data1[2]) - dzien_julianski(data2[0], data2[1], data2[2]))\n",
    "\n",
    "dzien_julianski('12', 12, 2023)\n",
    "ile_dni((16, '12', 2023), ('24', 12, 2023))"
   ]
  },
  {
   "cell_type": "markdown",
   "id": "73e32195",
   "metadata": {},
   "source": [
    "### Zadanie 4\n",
    "\n",
    "Przypomnij sobie funkcję do wyliczania objętości hiperkuli (zadanie 5 lista 4). Dodaj do niej dokumentację opisującą użycie funkcji oraz przykładowe testy, które sprawdzisz modułem `doctest`.\n",
    "\n",
    "Rozwiązanie umieść w komórce poniżej."
   ]
  },
  {
   "cell_type": "code",
   "execution_count": 48,
   "id": "9f2e7d0a",
   "metadata": {},
   "outputs": [
    {
     "name": "stdout",
     "output_type": "stream",
     "text": [
      "n = 1 \t 1.9999999999999998\n",
      "n = 2 \t 3.141592653589793\n",
      "n = 3 \t 4.1887902047863905\n",
      "n = 4 \t 4.934802200544679\n",
      "n = 5 \t 5.263789013914325\n",
      "n = 6 \t 5.167712780049969\n",
      "n = 7 \t 4.7247659703314016\n",
      "n = 8 \t 4.058712126416768\n",
      "n = 9 \t 3.2985089027387064\n",
      "n = 10 \t 2.550164039877345\n"
     ]
    }
   ],
   "source": [
    "def hiperkula(r, n):\n",
    "    \"\"\"\n",
    "    Funkcja licząca objętość hiperkuli dla zadanych: 'r' - promień, 'n' - liczba wymiarów.\n",
    "\n",
    "    >>> hiperkula(1, 1)\n",
    "    1.9999999999999998\n",
    "\n",
    "    >>> hiperkula(1, 2)\n",
    "    3.141592653589793\n",
    "\n",
    "    >>> hiperkula(1, 10)\n",
    "    2.550164039877345\n",
    "    \"\"\"\n",
    "    return (math.pi**(n/2) * r**n)/(math.gamma(n/2 + 1))\n",
    "\n",
    "for i in range(1, 11): print('n =', i, '\\t', hiperkula(1, i))"
   ]
  },
  {
   "cell_type": "markdown",
   "id": "4312e388-11ae-42ec-90d7-d454f4a74427",
   "metadata": {},
   "source": [
    "Uruchom opracowane testy, aby sprawdzić, czy dobrze działają."
   ]
  },
  {
   "cell_type": "code",
   "execution_count": 49,
   "id": "f6866964-164c-4f25-8f52-cf41cdf0ef33",
   "metadata": {},
   "outputs": [
    {
     "data": {
      "text/plain": [
       "TestResults(failed=0, attempted=3)"
      ]
     },
     "execution_count": 49,
     "metadata": {},
     "output_type": "execute_result"
    }
   ],
   "source": [
    "doctest.testmod()"
   ]
  },
  {
   "cell_type": "markdown",
   "id": "7efa91a8",
   "metadata": {},
   "source": [
    "### Zadanie 5\n",
    "\n",
    "Wybierz dowolne zadanie z kursu Analiza matematyczna, spróbuj je rozwiązać za pomocą biblioteki SymPy.\n",
    "\n",
    "Treść zadania umieść w komórce tekstowej poniżej, zadbaj o formatowanie tekstu oraz wzorów."
   ]
  },
  {
   "cell_type": "markdown",
   "id": "677754f5-b1b4-4664-836a-f7a22e38cd3a",
   "metadata": {},
   "source": [
    "Oblicz wartość całki oznaczonej:\n",
    "$$\\int_{0}^{1}\\pi x^2 e^x \\,dx$$"
   ]
  },
  {
   "cell_type": "markdown",
   "id": "57e035bd",
   "metadata": {},
   "source": [
    "Rozwiązanie wybranego zadania umieść w komórce poniżej."
   ]
  },
  {
   "cell_type": "code",
   "execution_count": 67,
   "id": "767b23c8",
   "metadata": {},
   "outputs": [
    {
     "data": {
      "text/latex": [
       "$\\displaystyle - 2 \\pi + e \\pi$"
      ],
      "text/plain": [
       "-2*pi + E*pi"
      ]
     },
     "execution_count": 67,
     "metadata": {},
     "output_type": "execute_result"
    }
   ],
   "source": [
    "a, b, c, x = sympy.symbols('a, b, c, x')\n",
    "#sympy.integrate(sympy.sin(x), (x))\n",
    "sympy.integrate(sympy.pi*(x**2)*sympy.exp(x), (x, 0, 1))\n"
   ]
  },
  {
   "cell_type": "markdown",
   "id": "3d7a18a0",
   "metadata": {},
   "source": [
    "<div style=\"text-align: right\"> Powodzenia!<br><i>Zespół kursu Wstęp do programowania</i></div>"
   ]
  }
 ],
 "metadata": {
  "kernelspec": {
   "display_name": "Python 3 (ipykernel)",
   "language": "python",
   "name": "python3"
  },
  "language_info": {
   "codemirror_mode": {
    "name": "ipython",
    "version": 3
   },
   "file_extension": ".py",
   "mimetype": "text/x-python",
   "name": "python",
   "nbconvert_exporter": "python",
   "pygments_lexer": "ipython3",
   "version": "3.10.11"
  }
 },
 "nbformat": 4,
 "nbformat_minor": 5
}
