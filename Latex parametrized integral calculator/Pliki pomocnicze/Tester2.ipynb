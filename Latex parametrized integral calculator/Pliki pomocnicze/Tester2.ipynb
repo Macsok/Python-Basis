{
 "cells": [
  {
   "cell_type": "code",
   "execution_count": 24,
   "metadata": {},
   "outputs": [
    {
     "name": "stdout",
     "output_type": "stream",
     "text": [
      "x**2-5\n",
      "x**2 - 5\n"
     ]
    },
    {
     "data": {
      "text/plain": [
       "-5"
      ]
     },
     "execution_count": 24,
     "metadata": {},
     "output_type": "execute_result"
    }
   ],
   "source": [
    "#from wykresy import *\n",
    "import numpy as np\n",
    "from matplotlib import pyplot as plt\n",
    "import sympy\n",
    "x = sympy.symbols('x')\n",
    "func = \"x**2-5\"\n",
    "eval(func)\n",
    "\n",
    "def f(x):\n",
    "    return eval(str(func))\n",
    "\n",
    "print(func)\n",
    "func = eval(func)\n",
    "print(func)\n",
    "\n",
    "f(0)"
   ]
  }
 ],
 "metadata": {
  "kernelspec": {
   "display_name": "Python 3",
   "language": "python",
   "name": "python3"
  },
  "language_info": {
   "codemirror_mode": {
    "name": "ipython",
    "version": 3
   },
   "file_extension": ".py",
   "mimetype": "text/x-python",
   "name": "python",
   "nbconvert_exporter": "python",
   "pygments_lexer": "ipython3",
   "version": "3.10.11"
  }
 },
 "nbformat": 4,
 "nbformat_minor": 2
}
